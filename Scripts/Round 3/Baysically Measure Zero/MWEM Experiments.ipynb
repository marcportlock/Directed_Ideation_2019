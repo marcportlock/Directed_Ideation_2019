{
 "cells": [
  {
   "cell_type": "markdown",
   "metadata": {},
   "source": []
  },
  {
   "cell_type": "code",
   "execution_count": 9,
   "metadata": {
    "collapsed": true
   },
   "outputs": [
    {
     "name": "stdout",
     "output_type": "stream",
     "text": [
      "\u001b[32m\u001b[1m Resolving\u001b[22m\u001b[39m package versions...\n",
      "\u001b[32m\u001b[1m  Updating\u001b[22m\u001b[39m `C:\\Users\\tho802\\.julia\\environments\\v1.1\\Project.toml`\n",
      "\u001b[90m [no changes]\u001b[39m\n",
      "\u001b[32m\u001b[1m  Updating\u001b[22m\u001b[39m `C:\\Users\\tho802\\.julia\\environments\\v1.1\\Manifest.toml`\n",
      "\u001b[90m [no changes]\u001b[39m\n",
      "\u001b[32m\u001b[1m Resolving\u001b[22m\u001b[39m package versions...\n",
      "\u001b[32m\u001b[1m Installed\u001b[22m\u001b[39m LaTeXStrings ─ v1.0.3\n",
      "\u001b[32m\u001b[1m Installed\u001b[22m\u001b[39m PyPlot ─────── v2.8.1\n",
      "\u001b[32m\u001b[1m Installed\u001b[22m\u001b[39m Tokenize ───── v0.5.5\n",
      "\u001b[32m\u001b[1m Installed\u001b[22m\u001b[39m CSTParser ──── v0.6.0\n",
      "\u001b[32m\u001b[1m Installed\u001b[22m\u001b[39m MacroTools ─── v0.5.1\n",
      "\u001b[32m\u001b[1m  Updating\u001b[22m\u001b[39m `C:\\Users\\tho802\\.julia\\environments\\v1.1\\Project.toml`\n",
      " \u001b[90m [d330b81b]\u001b[39m\u001b[92m + PyPlot v2.8.1\u001b[39m\n",
      "\u001b[32m\u001b[1m  Updating\u001b[22m\u001b[39m `C:\\Users\\tho802\\.julia\\environments\\v1.1\\Manifest.toml`\n",
      " \u001b[90m [00ebfdb7]\u001b[39m\u001b[92m + CSTParser v0.6.0\u001b[39m\n",
      " \u001b[90m [b964fa9f]\u001b[39m\u001b[92m + LaTeXStrings v1.0.3\u001b[39m\n",
      " \u001b[90m [1914dd2f]\u001b[39m\u001b[92m + MacroTools v0.5.1\u001b[39m\n",
      " \u001b[90m [438e738f]\u001b[39m\u001b[92m + PyCall v1.91.2\u001b[39m\n",
      " \u001b[90m [d330b81b]\u001b[39m\u001b[92m + PyPlot v2.8.1\u001b[39m\n",
      " \u001b[90m [0796e94c]\u001b[39m\u001b[92m + Tokenize v0.5.5\u001b[39m\n"
     ]
    }
   ],
   "source": [
    "using Pkg\n",
    "\n",
    "Pkg.add(\"Distributions\")\n",
    "Pkg.add(\"PyPlot\")"
   ]
  },
  {
   "cell_type": "code",
   "execution_count": 10,
   "metadata": {
    "scrolled": true
   },
   "outputs": [
    {
     "name": "stderr",
     "output_type": "stream",
     "text": [
      "┌ Info: Precompiling PyPlot [d330b81b-6aea-500a-939a-2ce795aea3ee]\n",
      "└ @ Base loading.jl:1186\n",
      "┌ Info: Installing matplotlib via the Conda matplotlib package...\n",
      "└ @ PyCall C:\\Users\\tho802\\.julia\\packages\\PyCall\\ttONZ\\src\\PyCall.jl:705\n",
      "┌ Info: Running `conda install -y matplotlib` in root environment\n",
      "└ @ Conda C:\\Users\\tho802\\.julia\\packages\\Conda\\kLXeC\\src\\Conda.jl:112\n"
     ]
    },
    {
     "name": "stdout",
     "output_type": "stream",
     "text": [
      "Collecting package metadata: ...working... done\n",
      "Solving environment: ...working... done\n",
      "\n",
      "## Package Plan ##\n",
      "\n",
      "  environment location: C:\\Users\\tho802\\.julia\\conda\\3\n",
      "\n",
      "  added / updated specs:\n",
      "    - matplotlib\n",
      "\n",
      "\n",
      "The following packages will be downloaded:\n",
      "\n",
      "    package                    |            build\n",
      "    ---------------------------|-----------------\n",
      "    bzip2-1.0.8                |       he774522_0         150 KB\n",
      "    ca-certificates-2019.5.15  |                0         166 KB\n",
      "    certifi-2019.6.16          |           py36_0         155 KB\n",
      "    conda-4.7.5                |           py36_0         3.0 MB\n",
      "    conda-package-handling-1.3.11|           py36_0         280 KB\n",
      "    cycler-0.10.0              |   py36h009560c_0          13 KB\n",
      "    freetype-2.9.1             |       ha9979f8_1         470 KB\n",
      "    kiwisolver-1.1.0           |   py36ha925a31_0          59 KB\n",
      "    libarchive-3.3.3           |       h0643e63_5         1.4 MB\n",
      "    libiconv-1.15              |       h1df5818_7         664 KB\n",
      "    libpng-1.6.37              |       h2a8f88b_0         598 KB\n",
      "    libxml2-2.9.9              |       h464c3ec_0         3.5 MB\n",
      "    lz4-c-1.8.1.2              |       h2fa13f4_0         217 KB\n",
      "    lzo-2.10                   |       h6df0209_2         154 KB\n",
      "    matplotlib-3.1.0           |   py36hc8f65d3_0         6.6 MB\n",
      "    openssl-1.1.1c             |       he774522_1         5.7 MB\n",
      "    pyparsing-2.4.0            |             py_0          58 KB\n",
      "    python-libarchive-c-2.8    |          py36_10          23 KB\n",
      "    pytz-2019.1                |             py_0         236 KB\n",
      "    tqdm-4.32.1                |             py_0          48 KB\n",
      "    xz-5.2.4                   |       h2fa13f4_4         812 KB\n",
      "    zstd-1.3.7                 |       h508b16e_0         536 KB\n",
      "    ------------------------------------------------------------\n",
      "                                           Total:        24.8 MB\n",
      "\n",
      "The following NEW packages will be INSTALLED:\n",
      "\n",
      "  bzip2              pkgs/main/win-64::bzip2-1.0.8-he774522_0\n",
      "  conda-package-han~ pkgs/main/win-64::conda-package-handling-1.3.11-py36_0\n",
      "  cycler             pkgs/main/win-64::cycler-0.10.0-py36h009560c_0\n",
      "  freetype           pkgs/main/win-64::freetype-2.9.1-ha9979f8_1\n",
      "  kiwisolver         pkgs/main/win-64::kiwisolver-1.1.0-py36ha925a31_0\n",
      "  libarchive         pkgs/main/win-64::libarchive-3.3.3-h0643e63_5\n",
      "  libiconv           pkgs/main/win-64::libiconv-1.15-h1df5818_7\n",
      "  libxml2            pkgs/main/win-64::libxml2-2.9.9-h464c3ec_0\n",
      "  lz4-c              pkgs/main/win-64::lz4-c-1.8.1.2-h2fa13f4_0\n",
      "  lzo                pkgs/main/win-64::lzo-2.10-h6df0209_2\n",
      "  matplotlib         pkgs/main/win-64::matplotlib-3.1.0-py36hc8f65d3_0\n",
      "  pyparsing          pkgs/main/noarch::pyparsing-2.4.0-py_0\n",
      "  python-libarchive~ pkgs/main/win-64::python-libarchive-c-2.8-py36_10\n",
      "  pytz               pkgs/main/noarch::pytz-2019.1-py_0\n",
      "  tqdm               pkgs/main/noarch::tqdm-4.32.1-py_0\n",
      "  xz                 pkgs/main/win-64::xz-5.2.4-h2fa13f4_4\n",
      "  zstd               pkgs/main/win-64::zstd-1.3.7-h508b16e_0\n",
      "\n",
      "The following packages will be UPDATED:\n",
      "\n",
      "  ca-certificates                               2019.1.23-0 --> 2019.5.15-0\n",
      "  certifi                                   2019.3.9-py36_0 --> 2019.6.16-py36_0\n",
      "  conda                                       4.6.14-py36_0 --> 4.7.5-py36_0\n",
      "  libpng                                  1.6.35-h2a8f88b_0 --> 1.6.37-h2a8f88b_0\n",
      "  openssl                                 1.1.1b-he774522_1 --> 1.1.1c-he774522_1\n",
      "\n",
      "\n",
      "\n",
      "Downloading and Extracting Packages\n",
      "zstd-1.3.7           | 536 KB    | ########## | 100% \n",
      "bzip2-1.0.8          | 150 KB    | ########## | 100% \n",
      "xz-5.2.4             | 812 KB    | ########## | 100% \n",
      "lz4-c-1.8.1.2        | 217 KB    | ########## | 100% \n",
      "conda-4.7.5          | 3.0 MB    | ########## | 100% \n",
      "kiwisolver-1.1.0     | 59 KB     | ########## | 100% \n",
      "pyparsing-2.4.0      | 58 KB     | ########## | 100% \n",
      "lzo-2.10             | 154 KB    | ########## | 100% \n",
      "libarchive-3.3.3     | 1.4 MB    | ########## | 100% \n",
      "libxml2-2.9.9        | 3.5 MB    | ########## | 100% \n",
      "matplotlib-3.1.0     | 6.6 MB    | ########## | 100% \n",
      "freetype-2.9.1       | 470 KB    | ########## | 100% \n",
      "tqdm-4.32.1          | 48 KB     | ########## | 100% \n",
      "cycler-0.10.0        | 13 KB     | ########## | 100% \n",
      "ca-certificates-2019 | 166 KB    | ########## | 100% \n",
      "libpng-1.6.37        | 598 KB    | ########## | 100% \n",
      "pytz-2019.1          | 236 KB    | ########## | 100% \n",
      "conda-package-handli | 280 KB    | ########## | 100% \n",
      "certifi-2019.6.16    | 155 KB    | ########## | 100% \n",
      "python-libarchive-c- | 23 KB     | ########## | 100% \n",
      "libiconv-1.15        | 664 KB    | ########## | 100% \n",
      "openssl-1.1.1c       | 5.7 MB    | ########## | 100% \n",
      "Preparing transaction: ...working... done\n",
      "Verifying transaction: ...working... done\n",
      "Executing transaction: ...working... done\n"
     ]
    }
   ],
   "source": [
    "using PrivateMultiplicativeWeights\n",
    "using Distributions\n",
    "using PyPlot"
   ]
  },
  {
   "cell_type": "code",
   "execution_count": 12,
   "metadata": {},
   "outputs": [],
   "source": [
    "d, n = 20, 1000\n",
    "data_matrix = rand(0:1, d ,n)\n",
    "data_matrix[3, :] = data_matrix[1, :] .* data_matrix[2, :];\n"
   ]
  },
  {
   "cell_type": "code",
   "execution_count": 34,
   "metadata": {},
   "outputs": [
    {
     "data": {
      "text/plain": [
       "1000-element Array{Int64,1}:\n",
       " 0\n",
       " 0\n",
       " 0\n",
       " 0\n",
       " 0\n",
       " 1\n",
       " 1\n",
       " 0\n",
       " 1\n",
       " 0\n",
       " 0\n",
       " 1\n",
       " 1\n",
       " ⋮\n",
       " 1\n",
       " 0\n",
       " 1\n",
       " 1\n",
       " 0\n",
       " 0\n",
       " 1\n",
       " 1\n",
       " 1\n",
       " 0\n",
       " 0\n",
       " 1"
      ]
     },
     "execution_count": 34,
     "metadata": {},
     "output_type": "execute_result"
    }
   ],
   "source": []
  },
  {
   "cell_type": "code",
   "execution_count": 15,
   "metadata": {},
   "outputs": [
    {
     "data": {
      "text/plain": [
       "Tabular([0.0 1.0 … 1.0 0.0; 0.0 1.0 … 1.0 1.0; … ; 1.0 1.0 … 0.0 0.0; 0.0 0.0 … 1.0 1.0])"
      ]
     },
     "execution_count": 15,
     "metadata": {},
     "output_type": "execute_result"
    }
   ],
   "source": [
    "t = Tabular(data_matrix)"
   ]
  },
  {
   "cell_type": "code",
   "execution_count": 16,
   "metadata": {},
   "outputs": [],
   "source": [
    "mw = mwem(Parities(d, 3), t);"
   ]
  },
  {
   "cell_type": "code",
   "execution_count": 14,
   "metadata": {},
   "outputs": [
    {
     "data": {
      "text/plain": [
       "Tabular([1.0 1.0 … 1.0 0.0; 0.0 1.0 … 0.0 1.0; … ; 1.0 0.0 … 0.0 0.0; 1.0 1.0 … 1.0 0.0])"
      ]
     },
     "execution_count": 14,
     "metadata": {},
     "output_type": "execute_result"
    }
   ],
   "source": [
    "# Synthetic version of the dataset\n",
    "table = Tabular(mw.synthetic, n)"
   ]
  },
  {
   "cell_type": "markdown",
   "metadata": {},
   "source": [
    "Now with our synthetic dataset\n",
    "\n"
   ]
  },
  {
   "cell_type": "code",
   "execution_count": 20,
   "metadata": {
    "collapsed": true
   },
   "outputs": [
    {
     "name": "stdout",
     "output_type": "stream",
     "text": [
      "\u001b[32m\u001b[1m Resolving\u001b[22m\u001b[39m package versions...\n",
      "\u001b[32m\u001b[1m  Updating\u001b[22m\u001b[39m `C:\\Users\\tho802\\.julia\\environments\\v1.1\\Project.toml`\n",
      "\u001b[90m [no changes]\u001b[39m\n",
      "\u001b[32m\u001b[1m  Updating\u001b[22m\u001b[39m `C:\\Users\\tho802\\.julia\\environments\\v1.1\\Manifest.toml`\n",
      "\u001b[90m [no changes]\u001b[39m\n",
      "\u001b[32m\u001b[1m Resolving\u001b[22m\u001b[39m package versions...\n",
      "\u001b[32m\u001b[1m  Updating\u001b[22m\u001b[39m `C:\\Users\\tho802\\.julia\\environments\\v1.1\\Project.toml`\n",
      " \u001b[90m [a93c6f00]\u001b[39m\u001b[92m + DataFrames v0.19.0\u001b[39m\n",
      "\u001b[32m\u001b[1m  Updating\u001b[22m\u001b[39m `C:\\Users\\tho802\\.julia\\environments\\v1.1\\Manifest.toml`\n",
      "\u001b[90m [no changes]\u001b[39m\n"
     ]
    }
   ],
   "source": [
    "import Pkg; Pkg.add(\"CSV\"); Pkg.add(\"DataFrames\")\n",
    "using CSV\n",
    "using DataFrames"
   ]
  },
  {
   "cell_type": "code",
   "execution_count": 29,
   "metadata": {},
   "outputs": [
    {
     "data": {
      "text/html": [
       "<table class=\"data-frame\"><thead><tr><th></th><th>variable</th><th>mean</th><th>min</th><th>median</th><th>max</th><th>nunique</th><th>nmissing</th><th>eltype</th></tr><tr><th></th><th>Symbol</th><th>Float64</th><th>Int64</th><th>Float64</th><th>Int64</th><th>Nothing</th><th>Nothing</th><th>DataType</th></tr></thead><tbody><p>3 rows × 8 columns</p><tr><th>1</th><td>RACE</td><td>1.41672</td><td>0</td><td>1.0</td><td>2</td><td></td><td></td><td>Int64</td></tr><tr><th>2</th><td>GENDER</td><td>0.909984</td><td>0</td><td>1.0</td><td>2</td><td></td><td></td><td>Int64</td></tr><tr><th>3</th><td>INMATE_STATUS_CODE</td><td>2.20591</td><td>0</td><td>2.0</td><td>7</td><td></td><td></td><td>Int64</td></tr></tbody></table>"
      ],
      "text/latex": [
       "\\begin{tabular}{r|cccccccc}\n",
       "\t& variable & mean & min & median & max & nunique & nmissing & eltype\\\\\n",
       "\t\\hline\n",
       "\t& Symbol & Float64 & Int64 & Float64 & Int64 & Nothing & Nothing & DataType\\\\\n",
       "\t\\hline\n",
       "\t1 & RACE & 1.41672 & 0 & 1.0 & 2 &  &  & Int64 \\\\\n",
       "\t2 & GENDER & 0.909984 & 0 & 1.0 & 2 &  &  & Int64 \\\\\n",
       "\t3 & INMATE\\_STATUS\\_CODE & 2.20591 & 0 & 2.0 & 7 &  &  & Int64 \\\\\n",
       "\\end{tabular}\n"
      ],
      "text/plain": [
       "3×8 DataFrame. Omitted printing of 2 columns\n",
       "│ Row │ variable           │ mean     │ min   │ median  │ max   │ nunique │\n",
       "│     │ \u001b[90mSymbol\u001b[39m             │ \u001b[90mFloat64\u001b[39m  │ \u001b[90mInt64\u001b[39m │ \u001b[90mFloat64\u001b[39m │ \u001b[90mInt64\u001b[39m │ \u001b[90mNothing\u001b[39m │\n",
       "├─────┼────────────────────┼──────────┼───────┼─────────┼───────┼─────────┤\n",
       "│ 1   │ RACE               │ 1.41672  │ 0     │ 1.0     │ 2     │         │\n",
       "│ 2   │ GENDER             │ 0.909984 │ 0     │ 1.0     │ 2     │         │\n",
       "│ 3   │ INMATE_STATUS_CODE │ 2.20591  │ 0     │ 2.0     │ 7     │         │"
      ]
     },
     "execution_count": 29,
     "metadata": {},
     "output_type": "execute_result"
    }
   ],
   "source": [
    "df = CSV.read(\"synthetic_data_2.csv\")\n",
    "df = df[:, [:RACE, :GENDER, :INMATE_STATUS_CODE]]\n",
    "describe(df)"
   ]
  },
  {
   "cell_type": "code",
   "execution_count": 33,
   "metadata": {},
   "outputs": [
    {
     "ename": "MethodError",
     "evalue": "MethodError: no method matching Array{Float64,1}(::Array{Int64,2})\nClosest candidates are:\n  Array{Float64,1}(::AbstractArray{S,N}) where {T, N, S} at array.jl:482\n  Array{Float64,1}() where T at boot.jl:421\n  Array{Float64,1}(!Matched::UndefInitializer, !Matched::Int64) where T at boot.jl:402\n  ...",
     "output_type": "error",
     "traceback": [
      "MethodError: no method matching Array{Float64,1}(::Array{Int64,2})\nClosest candidates are:\n  Array{Float64,1}(::AbstractArray{S,N}) where {T, N, S} at array.jl:482\n  Array{Float64,1}() where T at boot.jl:421\n  Array{Float64,1}(!Matched::UndefInitializer, !Matched::Int64) where T at boot.jl:402\n  ...",
      "",
      "Stacktrace:",
      " [1] convert(::Type{Array{Float64,1}}, ::Array{Int64,2}) at .\\array.jl:474",
      " [2] Histogram(::Array{Int64,2}, ::Int64) at C:\\Users\\tho802\\.julia\\dev\\PrivateMultiplicativeWeights\\src\\histogram.jl:8",
      " [3] top-level scope at In[33]:2"
     ]
    }
   ],
   "source": [
    "m = convert(Matrix, df)\n",
    "Histogram(m, 100)"
   ]
  },
  {
   "cell_type": "code",
   "execution_count": null,
   "metadata": {},
   "outputs": [],
   "source": [
    "Histogram(df, num_samples)"
   ]
  },
  {
   "cell_type": "code",
   "execution_count": null,
   "metadata": {},
   "outputs": [],
   "source": []
  }
 ],
 "metadata": {
  "kernelspec": {
   "display_name": "Julia 1.1.0",
   "language": "julia",
   "name": "julia-1.1"
  },
  "language_info": {
   "file_extension": ".jl",
   "mimetype": "application/julia",
   "name": "julia",
   "version": "1.1.0"
  }
 },
 "nbformat": 4,
 "nbformat_minor": 2
}
