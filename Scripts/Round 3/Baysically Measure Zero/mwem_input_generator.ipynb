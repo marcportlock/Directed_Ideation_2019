{
 "cells": [
  {
   "cell_type": "markdown",
   "metadata": {},
   "source": [
    "# MWEM input generator"
   ]
  },
  {
   "cell_type": "markdown",
   "metadata": {},
   "source": [
    "This code writes a certain histogram representation of a given data set to a CSV file. The CSV file can be read in order to obtain the data set in the form expected by the implementation of MWEM available at https://github.com/mrtzh/PrivateMultiplicativeWeights.jl."
   ]
  },
  {
   "cell_type": "code",
   "execution_count": 12,
   "metadata": {},
   "outputs": [],
   "source": [
    "from pandas import cut, DataFrame, Index, MultiIndex, RangeIndex, read_csv\n",
    "from typing import cast, Mapping, NewType, Sequence, Text, Tuple"
   ]
  },
  {
   "cell_type": "code",
   "execution_count": 13,
   "metadata": {},
   "outputs": [],
   "source": [
    "Record = NewType('Record', Tuple[int, ...])\n",
    "Dataset = NewType('Dataset', Mapping[Record, float])"
   ]
  },
  {
   "cell_type": "markdown",
   "metadata": {},
   "source": [
    "## Utility functions"
   ]
  },
  {
   "cell_type": "markdown",
   "metadata": {},
   "source": [
    "Acknowledgement: The functions in this section are derived from source code developed at Data61 by Arthur Street and Gianpaolo Gioiosa."
   ]
  },
  {
   "cell_type": "code",
   "execution_count": 14,
   "metadata": {},
   "outputs": [],
   "source": [
    "def encode_values_as_integers(raw_data: DataFrame, include_all_in_range: bool = False) -> DataFrame:\n",
    "    data = raw_data.copy()\n",
    "    for column_name in data.columns:\n",
    "        if include_all_in_range:\n",
    "            sorted_values = list(range(min(data[column_name]), max(data[column_name]) + 1))\n",
    "        else:\n",
    "            sorted_values = sorted({value for value in data[column_name]})\n",
    "        value_dict = {value: i for i, value in enumerate(sorted_values)}\n",
    "        data[column_name] = raw_data[column_name].map(value_dict)\n",
    "    return data"
   ]
  },
  {
   "cell_type": "code",
   "execution_count": 15,
   "metadata": {},
   "outputs": [],
   "source": [
    "def get_dataset_from_data(data: DataFrame) -> Dataset:\n",
    "    maxima = data.agg('max')\n",
    "    column_names = [column for column in data.columns]\n",
    "    if len(column_names) > 1:\n",
    "        index = MultiIndex.from_product([RangeIndex.from_range(range(maxima[column_name] + 1))\n",
    "                                         for column_name in column_names], names=column_names)\n",
    "    else:\n",
    "        index = Index(range(maxima[column_names[0]] + 1), name=column_names[0])\n",
    "    dataset_as_series = data.groupby(column_names).size().reindex(index=index, fill_value=0)\n",
    "    d = dataset_as_series.to_dict()\n",
    "    if len(column_names) == 1:\n",
    "        d = {(k,): v for k, v in d.items()}\n",
    "    dataset = cast(Dataset, d)\n",
    "    return dataset"
   ]
  },
  {
   "cell_type": "code",
   "execution_count": 16,
   "metadata": {},
   "outputs": [],
   "source": [
    "def as_data_frame(dataset: Dataset, feature_names: Sequence[Text], output_index_name: Text) -> DataFrame:\n",
    "    index = MultiIndex.from_tuples(dataset.keys(), names=feature_names)\n",
    "    return DataFrame.from_dict(cast(dict, dataset),\n",
    "                               'index',\n",
    "                               columns=[output_index_name]).reindex(index, fill_value=0)"
   ]
  },
  {
   "cell_type": "markdown",
   "metadata": {},
   "source": [
    "## Read in the raw data"
   ]
  },
  {
   "cell_type": "code",
   "execution_count": 17,
   "metadata": {},
   "outputs": [
    {
     "data": {
      "text/html": [
       "<div>\n",
       "<style scoped>\n",
       "    .dataframe tbody tr th:only-of-type {\n",
       "        vertical-align: middle;\n",
       "    }\n",
       "\n",
       "    .dataframe tbody tr th {\n",
       "        vertical-align: top;\n",
       "    }\n",
       "\n",
       "    .dataframe thead th {\n",
       "        text-align: right;\n",
       "    }\n",
       "</style>\n",
       "<table border=\"1\" class=\"dataframe\">\n",
       "  <thead>\n",
       "    <tr style=\"text-align: right;\">\n",
       "      <th></th>\n",
       "      <th>gender</th>\n",
       "      <th>AGE</th>\n",
       "      <th>POSTCODE</th>\n",
       "      <th>blood_group</th>\n",
       "      <th>eye_color</th>\n",
       "    </tr>\n",
       "  </thead>\n",
       "  <tbody>\n",
       "    <tr>\n",
       "      <th>0</th>\n",
       "      <td>F</td>\n",
       "      <td>99</td>\n",
       "      <td>2649</td>\n",
       "      <td>B-</td>\n",
       "      <td>Brown</td>\n",
       "    </tr>\n",
       "    <tr>\n",
       "      <th>1</th>\n",
       "      <td>M</td>\n",
       "      <td>108</td>\n",
       "      <td>1780</td>\n",
       "      <td>A-</td>\n",
       "      <td>Hazel</td>\n",
       "    </tr>\n",
       "    <tr>\n",
       "      <th>2</th>\n",
       "      <td>M</td>\n",
       "      <td>59</td>\n",
       "      <td>2940</td>\n",
       "      <td>B+</td>\n",
       "      <td>Hazel</td>\n",
       "    </tr>\n",
       "    <tr>\n",
       "      <th>3</th>\n",
       "      <td>M</td>\n",
       "      <td>58</td>\n",
       "      <td>2945</td>\n",
       "      <td>B+</td>\n",
       "      <td>Blue</td>\n",
       "    </tr>\n",
       "    <tr>\n",
       "      <th>4</th>\n",
       "      <td>M</td>\n",
       "      <td>30</td>\n",
       "      <td>2729</td>\n",
       "      <td>AB-</td>\n",
       "      <td>Brown</td>\n",
       "    </tr>\n",
       "    <tr>\n",
       "      <th>5</th>\n",
       "      <td>M</td>\n",
       "      <td>6</td>\n",
       "      <td>2531</td>\n",
       "      <td>A-</td>\n",
       "      <td>Grey</td>\n",
       "    </tr>\n",
       "    <tr>\n",
       "      <th>6</th>\n",
       "      <td>F</td>\n",
       "      <td>104</td>\n",
       "      <td>839</td>\n",
       "      <td>B+</td>\n",
       "      <td>Brown</td>\n",
       "    </tr>\n",
       "    <tr>\n",
       "      <th>7</th>\n",
       "      <td>M</td>\n",
       "      <td>11</td>\n",
       "      <td>2901</td>\n",
       "      <td>AB-</td>\n",
       "      <td>Grey</td>\n",
       "    </tr>\n",
       "    <tr>\n",
       "      <th>8</th>\n",
       "      <td>F</td>\n",
       "      <td>105</td>\n",
       "      <td>846</td>\n",
       "      <td>A-</td>\n",
       "      <td>Green</td>\n",
       "    </tr>\n",
       "    <tr>\n",
       "      <th>9</th>\n",
       "      <td>M</td>\n",
       "      <td>115</td>\n",
       "      <td>2912</td>\n",
       "      <td>A+</td>\n",
       "      <td>Grey</td>\n",
       "    </tr>\n",
       "  </tbody>\n",
       "</table>\n",
       "</div>"
      ],
      "text/plain": [
       "  gender  AGE  POSTCODE blood_group eye_color\n",
       "0      F   99      2649          B-     Brown\n",
       "1      M  108      1780          A-     Hazel\n",
       "2      M   59      2940          B+     Hazel\n",
       "3      M   58      2945          B+      Blue\n",
       "4      M   30      2729         AB-     Brown\n",
       "5      M    6      2531          A-      Grey\n",
       "6      F  104       839          B+     Brown\n",
       "7      M   11      2901         AB-      Grey\n",
       "8      F  105       846          A-     Green\n",
       "9      M  115      2912          A+      Grey"
      ]
     },
     "execution_count": 17,
     "metadata": {},
     "output_type": "execute_result"
    }
   ],
   "source": [
    "data_path = '1_PIF/our-synthetic.csv'\n",
    "feature_names = ['gender', 'AGE', 'POSTCODE', 'blood_group', 'eye_color']\n",
    "number_of_records = 2000\n",
    "if number_of_records:\n",
    "    raw_data = read_csv(data_path)[feature_names].iloc[:number_of_records, :]\n",
    "else:\n",
    "    raw_data = read_csv(data_path)[feature_names]\n",
    "if 'our-synthetic.csv' in data_path and 'job' in feature_names:\n",
    "    raw_data = raw_data.fillna('Unemployed')\n",
    "raw_data.head(10)"
   ]
  },
  {
   "cell_type": "code",
   "execution_count": 33,
   "metadata": {},
   "outputs": [
    {
     "data": {
      "text/plain": [
       "2000"
      ]
     },
     "execution_count": 33,
     "metadata": {},
     "output_type": "execute_result"
    }
   ],
   "source": [
    "len(raw_data)"
   ]
  },
  {
   "cell_type": "code",
   "execution_count": 19,
   "metadata": {},
   "outputs": [],
   "source": [
    "data_binned = raw_data.copy()"
   ]
  },
  {
   "cell_type": "markdown",
   "metadata": {},
   "source": [
    "# Bin the data (if desired)"
   ]
  },
  {
   "cell_type": "code",
   "execution_count": 20,
   "metadata": {},
   "outputs": [
    {
     "data": {
      "text/html": [
       "<div>\n",
       "<style scoped>\n",
       "    .dataframe tbody tr th:only-of-type {\n",
       "        vertical-align: middle;\n",
       "    }\n",
       "\n",
       "    .dataframe tbody tr th {\n",
       "        vertical-align: top;\n",
       "    }\n",
       "\n",
       "    .dataframe thead th {\n",
       "        text-align: right;\n",
       "    }\n",
       "</style>\n",
       "<table border=\"1\" class=\"dataframe\">\n",
       "  <thead>\n",
       "    <tr style=\"text-align: right;\">\n",
       "      <th></th>\n",
       "      <th>gender</th>\n",
       "      <th>blood_group</th>\n",
       "      <th>eye_color</th>\n",
       "      <th>AGE_binned</th>\n",
       "      <th>POSTCODE_binned</th>\n",
       "    </tr>\n",
       "  </thead>\n",
       "  <tbody>\n",
       "    <tr>\n",
       "      <th>0</th>\n",
       "      <td>F</td>\n",
       "      <td>B-</td>\n",
       "      <td>Brown</td>\n",
       "      <td>4</td>\n",
       "      <td>12</td>\n",
       "    </tr>\n",
       "    <tr>\n",
       "      <th>1</th>\n",
       "      <td>M</td>\n",
       "      <td>A-</td>\n",
       "      <td>Hazel</td>\n",
       "      <td>4</td>\n",
       "      <td>8</td>\n",
       "    </tr>\n",
       "    <tr>\n",
       "      <th>2</th>\n",
       "      <td>M</td>\n",
       "      <td>B+</td>\n",
       "      <td>Hazel</td>\n",
       "      <td>2</td>\n",
       "      <td>13</td>\n",
       "    </tr>\n",
       "    <tr>\n",
       "      <th>3</th>\n",
       "      <td>M</td>\n",
       "      <td>B+</td>\n",
       "      <td>Blue</td>\n",
       "      <td>2</td>\n",
       "      <td>14</td>\n",
       "    </tr>\n",
       "    <tr>\n",
       "      <th>4</th>\n",
       "      <td>M</td>\n",
       "      <td>AB-</td>\n",
       "      <td>Brown</td>\n",
       "      <td>1</td>\n",
       "      <td>12</td>\n",
       "    </tr>\n",
       "    <tr>\n",
       "      <th>5</th>\n",
       "      <td>M</td>\n",
       "      <td>A-</td>\n",
       "      <td>Grey</td>\n",
       "      <td>0</td>\n",
       "      <td>11</td>\n",
       "    </tr>\n",
       "    <tr>\n",
       "      <th>6</th>\n",
       "      <td>F</td>\n",
       "      <td>B+</td>\n",
       "      <td>Brown</td>\n",
       "      <td>4</td>\n",
       "      <td>3</td>\n",
       "    </tr>\n",
       "    <tr>\n",
       "      <th>7</th>\n",
       "      <td>M</td>\n",
       "      <td>AB-</td>\n",
       "      <td>Grey</td>\n",
       "      <td>0</td>\n",
       "      <td>13</td>\n",
       "    </tr>\n",
       "    <tr>\n",
       "      <th>8</th>\n",
       "      <td>F</td>\n",
       "      <td>A-</td>\n",
       "      <td>Green</td>\n",
       "      <td>4</td>\n",
       "      <td>3</td>\n",
       "    </tr>\n",
       "    <tr>\n",
       "      <th>9</th>\n",
       "      <td>M</td>\n",
       "      <td>A+</td>\n",
       "      <td>Grey</td>\n",
       "      <td>4</td>\n",
       "      <td>13</td>\n",
       "    </tr>\n",
       "  </tbody>\n",
       "</table>\n",
       "</div>"
      ],
      "text/plain": [
       "  gender blood_group eye_color  AGE_binned  POSTCODE_binned\n",
       "0      F          B-     Brown           4               12\n",
       "1      M          A-     Hazel           4                8\n",
       "2      M          B+     Hazel           2               13\n",
       "3      M          B+      Blue           2               14\n",
       "4      M         AB-     Brown           1               12\n",
       "5      M          A-      Grey           0               11\n",
       "6      F          B+     Brown           4                3\n",
       "7      M         AB-      Grey           0               13\n",
       "8      F          A-     Green           4                3\n",
       "9      M          A+      Grey           4               13"
      ]
     },
     "execution_count": 20,
     "metadata": {},
     "output_type": "execute_result"
    }
   ],
   "source": [
    "binning_specification = {'AGE': 5, 'POSTCODE': 50}\n",
    "bin_labels_specification = {name_of_feature_to_bin: list(range(number_of_bins_for_feature))\n",
    "                            for name_of_feature_to_bin, number_of_bins_for_feature in binning_specification.items()}\n",
    "for name_of_feature_to_bin, number_of_bins_for_feature in binning_specification.items():\n",
    "    data_binned['{0}_binned'.format(name_of_feature_to_bin)] = cut(data_binned[name_of_feature_to_bin],\n",
    "                                                                   binning_specification[name_of_feature_to_bin],\n",
    "                                                                   labels=False)\n",
    "    data_binned = data_binned.drop(columns=[name_of_feature_to_bin])\n",
    "data_binned.head(10)"
   ]
  },
  {
   "cell_type": "markdown",
   "metadata": {},
   "source": [
    "# Encode the binned data"
   ]
  },
  {
   "cell_type": "code",
   "execution_count": 26,
   "metadata": {},
   "outputs": [
    {
     "data": {
      "text/html": [
       "<div>\n",
       "<style scoped>\n",
       "    .dataframe tbody tr th:only-of-type {\n",
       "        vertical-align: middle;\n",
       "    }\n",
       "\n",
       "    .dataframe tbody tr th {\n",
       "        vertical-align: top;\n",
       "    }\n",
       "\n",
       "    .dataframe thead th {\n",
       "        text-align: right;\n",
       "    }\n",
       "</style>\n",
       "<table border=\"1\" class=\"dataframe\">\n",
       "  <thead>\n",
       "    <tr style=\"text-align: right;\">\n",
       "      <th></th>\n",
       "      <th>gender</th>\n",
       "      <th>blood_group</th>\n",
       "      <th>eye_color</th>\n",
       "      <th>AGE_binned</th>\n",
       "      <th>POSTCODE_binned</th>\n",
       "    </tr>\n",
       "  </thead>\n",
       "  <tbody>\n",
       "    <tr>\n",
       "      <th>0</th>\n",
       "      <td>0</td>\n",
       "      <td>5</td>\n",
       "      <td>1</td>\n",
       "      <td>4</td>\n",
       "      <td>10</td>\n",
       "    </tr>\n",
       "    <tr>\n",
       "      <th>1</th>\n",
       "      <td>1</td>\n",
       "      <td>1</td>\n",
       "      <td>4</td>\n",
       "      <td>4</td>\n",
       "      <td>6</td>\n",
       "    </tr>\n",
       "    <tr>\n",
       "      <th>2</th>\n",
       "      <td>1</td>\n",
       "      <td>4</td>\n",
       "      <td>4</td>\n",
       "      <td>2</td>\n",
       "      <td>11</td>\n",
       "    </tr>\n",
       "    <tr>\n",
       "      <th>3</th>\n",
       "      <td>1</td>\n",
       "      <td>4</td>\n",
       "      <td>0</td>\n",
       "      <td>2</td>\n",
       "      <td>12</td>\n",
       "    </tr>\n",
       "    <tr>\n",
       "      <th>4</th>\n",
       "      <td>1</td>\n",
       "      <td>3</td>\n",
       "      <td>1</td>\n",
       "      <td>1</td>\n",
       "      <td>10</td>\n",
       "    </tr>\n",
       "    <tr>\n",
       "      <th>5</th>\n",
       "      <td>1</td>\n",
       "      <td>1</td>\n",
       "      <td>3</td>\n",
       "      <td>0</td>\n",
       "      <td>9</td>\n",
       "    </tr>\n",
       "    <tr>\n",
       "      <th>6</th>\n",
       "      <td>0</td>\n",
       "      <td>4</td>\n",
       "      <td>1</td>\n",
       "      <td>4</td>\n",
       "      <td>1</td>\n",
       "    </tr>\n",
       "    <tr>\n",
       "      <th>7</th>\n",
       "      <td>1</td>\n",
       "      <td>3</td>\n",
       "      <td>3</td>\n",
       "      <td>0</td>\n",
       "      <td>11</td>\n",
       "    </tr>\n",
       "    <tr>\n",
       "      <th>8</th>\n",
       "      <td>0</td>\n",
       "      <td>1</td>\n",
       "      <td>2</td>\n",
       "      <td>4</td>\n",
       "      <td>1</td>\n",
       "    </tr>\n",
       "    <tr>\n",
       "      <th>9</th>\n",
       "      <td>1</td>\n",
       "      <td>0</td>\n",
       "      <td>3</td>\n",
       "      <td>4</td>\n",
       "      <td>11</td>\n",
       "    </tr>\n",
       "  </tbody>\n",
       "</table>\n",
       "</div>"
      ],
      "text/plain": [
       "   gender  blood_group  eye_color  AGE_binned  POSTCODE_binned\n",
       "0       0            5          1           4               10\n",
       "1       1            1          4           4                6\n",
       "2       1            4          4           2               11\n",
       "3       1            4          0           2               12\n",
       "4       1            3          1           1               10\n",
       "5       1            1          3           0                9\n",
       "6       0            4          1           4                1\n",
       "7       1            3          3           0               11\n",
       "8       0            1          2           4                1\n",
       "9       1            0          3           4               11"
      ]
     },
     "execution_count": 26,
     "metadata": {},
     "output_type": "execute_result"
    }
   ],
   "source": [
    "# Also encode the non binned data for comparison\n",
    "data_encoded = encode_values_as_integers(raw_data=raw_data, include_all_in_range=False)\n",
    "\n",
    "data_binned_and_encoded = encode_values_as_integers(raw_data=data_binned, include_all_in_range=False)\n",
    "data_binned_and_encoded.head(10)"
   ]
  },
  {
   "cell_type": "markdown",
   "metadata": {},
   "source": [
    "# Represent the binned and encoded data as a histogram"
   ]
  },
  {
   "cell_type": "markdown",
   "metadata": {},
   "source": [
    "The histogram is represented as a list of normalised weights."
   ]
  },
  {
   "cell_type": "code",
   "execution_count": 27,
   "metadata": {},
   "outputs": [],
   "source": [
    "number_of_records = raw_data.shape[0]\n",
    "\n",
    "protected_dataset = get_dataset_from_data(data_binned_and_encoded)\n",
    "protected_histogram = [count / number_of_records for possible_record, count in protected_dataset.items()];\n",
    "\n",
    "unprotected_dataset = get_dataset_from_data(data_encoded)\n",
    "unprotected_histogram = [count / number_of_records for possible_record, count in unprotected_dataset.items()];"
   ]
  },
  {
   "cell_type": "markdown",
   "metadata": {},
   "source": [
    "# Output the histogram \n",
    "\n",
    "Because the MWEM implementation is in a different language we output the histogram weights as a CSV file."
   ]
  },
  {
   "cell_type": "code",
   "execution_count": 28,
   "metadata": {},
   "outputs": [
    {
     "data": {
      "text/html": [
       "<div>\n",
       "<style scoped>\n",
       "    .dataframe tbody tr th:only-of-type {\n",
       "        vertical-align: middle;\n",
       "    }\n",
       "\n",
       "    .dataframe tbody tr th {\n",
       "        vertical-align: top;\n",
       "    }\n",
       "\n",
       "    .dataframe thead th {\n",
       "        text-align: right;\n",
       "    }\n",
       "</style>\n",
       "<table border=\"1\" class=\"dataframe\">\n",
       "  <thead>\n",
       "    <tr style=\"text-align: right;\">\n",
       "      <th></th>\n",
       "      <th>weight</th>\n",
       "    </tr>\n",
       "  </thead>\n",
       "  <tbody>\n",
       "    <tr>\n",
       "      <th>0</th>\n",
       "      <td>0.0000</td>\n",
       "    </tr>\n",
       "    <tr>\n",
       "      <th>1</th>\n",
       "      <td>0.0000</td>\n",
       "    </tr>\n",
       "    <tr>\n",
       "      <th>2</th>\n",
       "      <td>0.0000</td>\n",
       "    </tr>\n",
       "    <tr>\n",
       "      <th>3</th>\n",
       "      <td>0.0000</td>\n",
       "    </tr>\n",
       "    <tr>\n",
       "      <th>4</th>\n",
       "      <td>0.0000</td>\n",
       "    </tr>\n",
       "    <tr>\n",
       "      <th>5</th>\n",
       "      <td>0.0000</td>\n",
       "    </tr>\n",
       "    <tr>\n",
       "      <th>6</th>\n",
       "      <td>0.0000</td>\n",
       "    </tr>\n",
       "    <tr>\n",
       "      <th>7</th>\n",
       "      <td>0.0010</td>\n",
       "    </tr>\n",
       "    <tr>\n",
       "      <th>8</th>\n",
       "      <td>0.0005</td>\n",
       "    </tr>\n",
       "    <tr>\n",
       "      <th>9</th>\n",
       "      <td>0.0005</td>\n",
       "    </tr>\n",
       "  </tbody>\n",
       "</table>\n",
       "</div>"
      ],
      "text/plain": [
       "   weight\n",
       "0  0.0000\n",
       "1  0.0000\n",
       "2  0.0000\n",
       "3  0.0000\n",
       "4  0.0000\n",
       "5  0.0000\n",
       "6  0.0000\n",
       "7  0.0010\n",
       "8  0.0005\n",
       "9  0.0005"
      ]
     },
     "execution_count": 28,
     "metadata": {},
     "output_type": "execute_result"
    }
   ],
   "source": [
    "protected_histogram_df = DataFrame(protected_histogram, columns=['weight'])\n",
    "unprotected_histogram_df = DataFrame(unprotected_histogram, columns=['weight'])\n",
    "protected_histogram_df.head(10)"
   ]
  },
  {
   "cell_type": "code",
   "execution_count": 24,
   "metadata": {},
   "outputs": [],
   "source": [
    "output_path = 'binned_synthetic_weights.csv'\n",
    "protected_histogram_df.to_csv(output_path, index=False)"
   ]
  },
  {
   "cell_type": "code",
   "execution_count": 29,
   "metadata": {},
   "outputs": [],
   "source": [
    "output_path = 'unbinned_synthetic_weights.csv'\n",
    "unprotected_histogram_df.to_csv(output_path, index=False)"
   ]
  },
  {
   "cell_type": "code",
   "execution_count": 31,
   "metadata": {},
   "outputs": [
    {
     "data": {
      "text/plain": [
       "19200"
      ]
     },
     "execution_count": 31,
     "metadata": {},
     "output_type": "execute_result"
    }
   ],
   "source": [
    "len(protected_histogram_df)"
   ]
  },
  {
   "cell_type": "code",
   "execution_count": 32,
   "metadata": {},
   "outputs": [
    {
     "data": {
      "text/plain": [
       "9275760"
      ]
     },
     "execution_count": 32,
     "metadata": {},
     "output_type": "execute_result"
    }
   ],
   "source": [
    "len(unprotected_histogram_df)"
   ]
  },
  {
   "cell_type": "code",
   "execution_count": null,
   "metadata": {},
   "outputs": [],
   "source": []
  }
 ],
 "metadata": {
  "kernelspec": {
   "display_name": "Python 3",
   "language": "python",
   "name": "python3"
  },
  "language_info": {
   "codemirror_mode": {
    "name": "ipython",
    "version": 3
   },
   "file_extension": ".py",
   "mimetype": "text/x-python",
   "name": "python",
   "nbconvert_exporter": "python",
   "pygments_lexer": "ipython3",
   "version": "3.6.5"
  }
 },
 "nbformat": 4,
 "nbformat_minor": 2
}
