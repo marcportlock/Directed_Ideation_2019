{
 "cells": [
  {
   "cell_type": "code",
   "execution_count": 356,
   "metadata": {},
   "outputs": [],
   "source": [
    "import pandas as pd\n",
    "import os\n",
    "import datetime\n",
    "import numpy as np\n",
    "from keras.layers import Input, Dense, LSTM, RepeatVector, TimeDistributed, Lambda\n",
    "from keras.models import Model, Sequential\n",
    "from sklearn.model_selection import train_test_split\n",
    "from keras.callbacks import TensorBoard\n",
    "from keras.utils import plot_model\n",
    "from keras.optimizers import SGD, RMSprop\n",
    "from sklearn.preprocessing import normalize\n",
    "from keras import backend as K\n",
    "from keras.losses import mse, binary_crossentropy\n",
    "import matplotlib.pyplot as plt\n"
   ]
  },
  {
   "cell_type": "code",
   "execution_count": 52,
   "metadata": {},
   "outputs": [
    {
     "data": {
      "text/plain": [
       "['Datasets.zip',\n",
       " '.DS_Store',\n",
       " 'Inmate_Admissions Data Dictionary.xlsx',\n",
       " 'Datasets',\n",
       " 'ACS Artificial Intelligence Starter Guide.pdf',\n",
       " '16-0026_DATA61_REPORT_TomorrowsDigiallyEnabledWorkforce_WEB_160128.pdf',\n",
       " 'Offence Charge Code Lookup.xlsx',\n",
       " 'Inmate_Admissions.csv',\n",
       " 'DirectedIdeation_20190708123418.ipynb',\n",
       " 'ACS_Data-Sharing-Frameworks_FINAL_FA_SINGLE_LR.pdf',\n",
       " 'directed',\n",
       " 'Inmate_Admissions_sample.csv',\n",
       " 'AFR-jobs-of-the-future-5JUN2018.pdf',\n",
       " 'RecurrentVariationalAutoencoder.ipynb',\n",
       " '.ipynb_checkpoints',\n",
       " 'ACS Data Sharing Taskforce - Directed Ideation Report - 26th March 2019_v1.1.pdf',\n",
       " 'ACS Directed Ideation - Information Evening 1st July 2019_v1_3.pptx']"
      ]
     },
     "execution_count": 52,
     "metadata": {},
     "output_type": "execute_result"
    }
   ],
   "source": [
    "os.listdir()"
   ]
  },
  {
   "cell_type": "code",
   "execution_count": 53,
   "metadata": {},
   "outputs": [],
   "source": [
    "data = pd.read_csv('Inmate_Admissions.csv')"
   ]
  },
  {
   "cell_type": "code",
   "execution_count": 54,
   "metadata": {},
   "outputs": [
    {
     "data": {
      "text/plain": [
       "(301747, 7)"
      ]
     },
     "execution_count": 54,
     "metadata": {},
     "output_type": "execute_result"
    }
   ],
   "source": [
    "data.shape"
   ]
  },
  {
   "cell_type": "code",
   "execution_count": 55,
   "metadata": {},
   "outputs": [
    {
     "data": {
      "text/plain": [
       "INMATEID               int64\n",
       "ADMITTED_DT           object\n",
       "DISCHARGED_DT         object\n",
       "RACE                  object\n",
       "GENDER                object\n",
       "INMATE_STATUS_CODE    object\n",
       "TOP_CHARGE            object\n",
       "dtype: object"
      ]
     },
     "execution_count": 55,
     "metadata": {},
     "output_type": "execute_result"
    }
   ],
   "source": [
    "data.dtypes"
   ]
  },
  {
   "cell_type": "code",
   "execution_count": 56,
   "metadata": {},
   "outputs": [],
   "source": [
    "data = data.fillna(0)"
   ]
  },
  {
   "cell_type": "code",
   "execution_count": 57,
   "metadata": {},
   "outputs": [],
   "source": [
    "data.ADMITTED_DT = data.ADMITTED_DT.astype('datetime64[ns]')\n",
    "data.DISCHARGED_DT = data.DISCHARGED_DT.astype('datetime64[ns]')"
   ]
  },
  {
   "cell_type": "code",
   "execution_count": 65,
   "metadata": {},
   "outputs": [],
   "source": [
    "def lookup_vals(myval, mydict):\n",
    "    try:\n",
    "        return mydict[myval]\n",
    "    except KeyError:\n",
    "        return None\n",
    "    \n",
    "    \n",
    "def create_sparse_dict(df):\n",
    "    labels = df.value_counts().sort_values()\n",
    "    lookup_dict = {}\n",
    "    c = 1 # starting from 1 because we will 0-pad\n",
    "    for i, v in labels.items():\n",
    "        lookup_dict[i] = c\n",
    "        c += 1\n",
    "    df = pd.DataFrame(df.apply(lookup_vals, args=(lookup_dict,)))\n",
    "    return df, lookup_dict\n",
    "\n",
    "\n",
    "def date_to_int(dt):\n",
    "    return (dt - datetime.datetime(1970,1,1)).total_seconds()"
   ]
  },
  {
   "cell_type": "code",
   "execution_count": 59,
   "metadata": {},
   "outputs": [],
   "source": [
    "data.RACE, race_dict = create_sparse_dict(data.RACE)"
   ]
  },
  {
   "cell_type": "code",
   "execution_count": 60,
   "metadata": {},
   "outputs": [],
   "source": [
    "data.GENDER, gender_dict = create_sparse_dict(data.GENDER)"
   ]
  },
  {
   "cell_type": "code",
   "execution_count": 61,
   "metadata": {},
   "outputs": [],
   "source": [
    "data.INMATE_STATUS_CODE, status_dict = create_sparse_dict(data.INMATE_STATUS_CODE)"
   ]
  },
  {
   "cell_type": "code",
   "execution_count": 62,
   "metadata": {},
   "outputs": [],
   "source": [
    "data.TOP_CHARGE, charge_dict = create_sparse_dict(data.TOP_CHARGE)"
   ]
  },
  {
   "cell_type": "code",
   "execution_count": 70,
   "metadata": {},
   "outputs": [],
   "source": [
    "data.ADMITTED_DT = data.ADMITTED_DT.apply(date_to_int)"
   ]
  },
  {
   "cell_type": "code",
   "execution_count": 71,
   "metadata": {},
   "outputs": [],
   "source": [
    "data.DISCHARGED_DT = data.DISCHARGED_DT.apply(date_to_int)"
   ]
  },
  {
   "cell_type": "code",
   "execution_count": 73,
   "metadata": {},
   "outputs": [
    {
     "data": {
      "text/plain": [
       "INMATEID                int64\n",
       "ADMITTED_DT           float64\n",
       "DISCHARGED_DT         float64\n",
       "RACE                    int64\n",
       "GENDER                  int64\n",
       "INMATE_STATUS_CODE      int64\n",
       "TOP_CHARGE              int64\n",
       "dtype: object"
      ]
     },
     "execution_count": 73,
     "metadata": {},
     "output_type": "execute_result"
    }
   ],
   "source": [
    "data.dtypes"
   ]
  },
  {
   "cell_type": "code",
   "execution_count": 75,
   "metadata": {},
   "outputs": [
    {
     "data": {
      "text/html": [
       "<div>\n",
       "<style scoped>\n",
       "    .dataframe tbody tr th:only-of-type {\n",
       "        vertical-align: middle;\n",
       "    }\n",
       "\n",
       "    .dataframe tbody tr th {\n",
       "        vertical-align: top;\n",
       "    }\n",
       "\n",
       "    .dataframe thead th {\n",
       "        text-align: right;\n",
       "    }\n",
       "</style>\n",
       "<table border=\"1\" class=\"dataframe\">\n",
       "  <thead>\n",
       "    <tr style=\"text-align: right;\">\n",
       "      <th></th>\n",
       "      <th>INMATEID</th>\n",
       "      <th>ADMITTED_DT</th>\n",
       "      <th>DISCHARGED_DT</th>\n",
       "      <th>RACE</th>\n",
       "      <th>GENDER</th>\n",
       "      <th>INMATE_STATUS_CODE</th>\n",
       "      <th>TOP_CHARGE</th>\n",
       "    </tr>\n",
       "  </thead>\n",
       "  <tbody>\n",
       "    <tr>\n",
       "      <th>count</th>\n",
       "      <td>3.017470e+05</td>\n",
       "      <td>3.017470e+05</td>\n",
       "      <td>3.017470e+05</td>\n",
       "      <td>301747.000000</td>\n",
       "      <td>301747.000000</td>\n",
       "      <td>301747.000000</td>\n",
       "      <td>301747.000000</td>\n",
       "    </tr>\n",
       "    <tr>\n",
       "      <th>mean</th>\n",
       "      <td>1.273267e+07</td>\n",
       "      <td>1.465263e+09</td>\n",
       "      <td>1.271692e+09</td>\n",
       "      <td>2.530547</td>\n",
       "      <td>2.902551</td>\n",
       "      <td>7.411106</td>\n",
       "      <td>569.159120</td>\n",
       "    </tr>\n",
       "    <tr>\n",
       "      <th>std</th>\n",
       "      <td>9.537441e+06</td>\n",
       "      <td>4.812781e+07</td>\n",
       "      <td>4.903313e+08</td>\n",
       "      <td>0.534101</td>\n",
       "      <td>0.304813</td>\n",
       "      <td>1.188958</td>\n",
       "      <td>32.535329</td>\n",
       "    </tr>\n",
       "    <tr>\n",
       "      <th>min</th>\n",
       "      <td>1.700000e+01</td>\n",
       "      <td>1.388561e+09</td>\n",
       "      <td>0.000000e+00</td>\n",
       "      <td>1.000000</td>\n",
       "      <td>1.000000</td>\n",
       "      <td>1.000000</td>\n",
       "      <td>1.000000</td>\n",
       "    </tr>\n",
       "    <tr>\n",
       "      <th>25%</th>\n",
       "      <td>1.073410e+05</td>\n",
       "      <td>1.423623e+09</td>\n",
       "      <td>1.407960e+09</td>\n",
       "      <td>2.000000</td>\n",
       "      <td>3.000000</td>\n",
       "      <td>7.000000</td>\n",
       "      <td>577.000000</td>\n",
       "    </tr>\n",
       "    <tr>\n",
       "      <th>50%</th>\n",
       "      <td>2.007140e+07</td>\n",
       "      <td>1.462123e+09</td>\n",
       "      <td>1.446598e+09</td>\n",
       "      <td>3.000000</td>\n",
       "      <td>3.000000</td>\n",
       "      <td>8.000000</td>\n",
       "      <td>579.000000</td>\n",
       "    </tr>\n",
       "    <tr>\n",
       "      <th>75%</th>\n",
       "      <td>2.015021e+07</td>\n",
       "      <td>1.504281e+09</td>\n",
       "      <td>1.487789e+09</td>\n",
       "      <td>3.000000</td>\n",
       "      <td>3.000000</td>\n",
       "      <td>8.000000</td>\n",
       "      <td>579.000000</td>\n",
       "    </tr>\n",
       "    <tr>\n",
       "      <th>max</th>\n",
       "      <td>2.020468e+07</td>\n",
       "      <td>1.559347e+09</td>\n",
       "      <td>1.559376e+09</td>\n",
       "      <td>3.000000</td>\n",
       "      <td>3.000000</td>\n",
       "      <td>8.000000</td>\n",
       "      <td>579.000000</td>\n",
       "    </tr>\n",
       "  </tbody>\n",
       "</table>\n",
       "</div>"
      ],
      "text/plain": [
       "           INMATEID   ADMITTED_DT  DISCHARGED_DT           RACE  \\\n",
       "count  3.017470e+05  3.017470e+05   3.017470e+05  301747.000000   \n",
       "mean   1.273267e+07  1.465263e+09   1.271692e+09       2.530547   \n",
       "std    9.537441e+06  4.812781e+07   4.903313e+08       0.534101   \n",
       "min    1.700000e+01  1.388561e+09   0.000000e+00       1.000000   \n",
       "25%    1.073410e+05  1.423623e+09   1.407960e+09       2.000000   \n",
       "50%    2.007140e+07  1.462123e+09   1.446598e+09       3.000000   \n",
       "75%    2.015021e+07  1.504281e+09   1.487789e+09       3.000000   \n",
       "max    2.020468e+07  1.559347e+09   1.559376e+09       3.000000   \n",
       "\n",
       "              GENDER  INMATE_STATUS_CODE     TOP_CHARGE  \n",
       "count  301747.000000       301747.000000  301747.000000  \n",
       "mean        2.902551            7.411106     569.159120  \n",
       "std         0.304813            1.188958      32.535329  \n",
       "min         1.000000            1.000000       1.000000  \n",
       "25%         3.000000            7.000000     577.000000  \n",
       "50%         3.000000            8.000000     579.000000  \n",
       "75%         3.000000            8.000000     579.000000  \n",
       "max         3.000000            8.000000     579.000000  "
      ]
     },
     "execution_count": 75,
     "metadata": {},
     "output_type": "execute_result"
    }
   ],
   "source": [
    "data.describe()"
   ]
  },
  {
   "cell_type": "code",
   "execution_count": 76,
   "metadata": {},
   "outputs": [],
   "source": [
    "data.to_csv('Inmate_Admissions_Numeric.csv')"
   ]
  },
  {
   "cell_type": "code",
   "execution_count": 95,
   "metadata": {},
   "outputs": [],
   "source": [
    "# turn inmate rows into trajectories\n",
    "inmates = []\n",
    "for i_id in data.INMATEID.unique():\n",
    "    inmates.append(data[data.INMATEID == i_id])"
   ]
  },
  {
   "cell_type": "code",
   "execution_count": 100,
   "metadata": {},
   "outputs": [],
   "source": [
    "padded_len = max([len(x) for x in inmates])\n",
    "feature_list = data.columns"
   ]
  },
  {
   "cell_type": "code",
   "execution_count": 109,
   "metadata": {},
   "outputs": [],
   "source": [
    "padded_inmates = []\n",
    "for inmate in inmates:\n",
    "    padding = pd.DataFrame(0, index=np.arange(padded_len - len(inmate)), columns=feature_list)\n",
    "    padded_inmates.append(pd.concat([inmate, padding]).values)"
   ]
  },
  {
   "cell_type": "code",
   "execution_count": 280,
   "metadata": {},
   "outputs": [],
   "source": [
    "x_train, x_test = train_test_split(padded_inmates, test_size=0.5, random_state=42)"
   ]
  },
  {
   "cell_type": "code",
   "execution_count": 334,
   "metadata": {},
   "outputs": [],
   "source": [
    "final_data_train = np.array(x_train)\n",
    "final_data_test = np.array(x_test)"
   ]
  },
  {
   "cell_type": "code",
   "execution_count": 335,
   "metadata": {},
   "outputs": [],
   "source": [
    "final_data_train = final_data_train[:,:,1:]\n",
    "final_data_test = final_data_test[:,:,1:]"
   ]
  },
  {
   "cell_type": "code",
   "execution_count": 336,
   "metadata": {},
   "outputs": [
    {
     "data": {
      "text/plain": [
       "(74463, 43, 6)"
      ]
     },
     "execution_count": 336,
     "metadata": {},
     "output_type": "execute_result"
    }
   ],
   "source": [
    "final_data_train.shape"
   ]
  },
  {
   "cell_type": "code",
   "execution_count": 337,
   "metadata": {},
   "outputs": [],
   "source": [
    "final_data_train = final_data_train / np.linalg.norm(final_data_train)\n",
    "final_data_test = final_data_test / np.linalg.norm(final_data_test)"
   ]
  },
  {
   "cell_type": "code",
   "execution_count": 286,
   "metadata": {},
   "outputs": [
    {
     "name": "stdout",
     "output_type": "stream",
     "text": [
      "Train on 59570 samples, validate on 14893 samples\n",
      "Epoch 1/50\n",
      "59570/59570 [==============================] - 29s 489us/step - loss: 0.0014 - val_loss: 0.0013\n",
      "Epoch 2/50\n",
      "59570/59570 [==============================] - 27s 457us/step - loss: 0.0013 - val_loss: 0.0012\n",
      "Epoch 3/50\n",
      "59570/59570 [==============================] - 28s 469us/step - loss: 0.0012 - val_loss: 0.0012\n",
      "Epoch 4/50\n",
      "59570/59570 [==============================] - 30s 503us/step - loss: 0.0012 - val_loss: 0.0012\n",
      "Epoch 5/50\n",
      "59570/59570 [==============================] - 30s 502us/step - loss: 0.0012 - val_loss: 0.0012\n",
      "Epoch 6/50\n",
      "59570/59570 [==============================] - 30s 509us/step - loss: 0.0012 - val_loss: 0.0011\n",
      "Epoch 7/50\n",
      "59570/59570 [==============================] - 30s 510us/step - loss: 0.0011 - val_loss: 0.0011\n",
      "Epoch 8/50\n",
      "59570/59570 [==============================] - 30s 511us/step - loss: 0.0011 - val_loss: 0.0011\n",
      "Epoch 9/50\n",
      "59570/59570 [==============================] - 31s 515us/step - loss: 0.0011 - val_loss: 0.0011\n",
      "Epoch 10/50\n",
      "59570/59570 [==============================] - 30s 505us/step - loss: 0.0011 - val_loss: 0.0011\n",
      "Epoch 11/50\n",
      "59570/59570 [==============================] - 31s 513us/step - loss: 0.0011 - val_loss: 0.0011\n",
      "Epoch 12/50\n",
      "59570/59570 [==============================] - 31s 522us/step - loss: 0.0011 - val_loss: 0.0011\n",
      "Epoch 13/50\n",
      "59570/59570 [==============================] - 32s 533us/step - loss: 0.0011 - val_loss: 0.0011\n",
      "Epoch 14/50\n",
      "59570/59570 [==============================] - 32s 539us/step - loss: 0.0011 - val_loss: 0.0011\n",
      "Epoch 15/50\n",
      "59570/59570 [==============================] - 30s 498us/step - loss: 0.0011 - val_loss: 0.0011\n",
      "Epoch 16/50\n",
      "59570/59570 [==============================] - 30s 502us/step - loss: 0.0011 - val_loss: 0.0011\n",
      "Epoch 17/50\n",
      "59570/59570 [==============================] - 30s 509us/step - loss: 0.0011 - val_loss: 0.0011\n",
      "Epoch 18/50\n",
      "59570/59570 [==============================] - 32s 540us/step - loss: 0.0011 - val_loss: 0.0011\n",
      "Epoch 19/50\n",
      "59570/59570 [==============================] - 31s 515us/step - loss: 0.0011 - val_loss: 0.0011\n",
      "Epoch 20/50\n",
      "59570/59570 [==============================] - 31s 522us/step - loss: 0.0011 - val_loss: 0.0011\n",
      "Epoch 21/50\n",
      "59570/59570 [==============================] - 32s 545us/step - loss: 0.0011 - val_loss: 0.0010\n",
      "Epoch 22/50\n",
      "59570/59570 [==============================] - 30s 506us/step - loss: 0.0011 - val_loss: 0.0010\n",
      "Epoch 23/50\n",
      "59570/59570 [==============================] - 31s 523us/step - loss: 0.0010 - val_loss: 0.0010\n",
      "Epoch 24/50\n",
      "59570/59570 [==============================] - 33s 553us/step - loss: 0.0010 - val_loss: 0.0010\n",
      "Epoch 25/50\n",
      "59570/59570 [==============================] - 31s 521us/step - loss: 0.0010 - val_loss: 0.0010\n",
      "Epoch 26/50\n",
      "59570/59570 [==============================] - 31s 513us/step - loss: 0.0010 - val_loss: 0.0010\n",
      "Epoch 27/50\n",
      "59570/59570 [==============================] - 31s 520us/step - loss: 0.0010 - val_loss: 0.0010\n",
      "Epoch 28/50\n",
      "59570/59570 [==============================] - 31s 516us/step - loss: 0.0010 - val_loss: 0.0010\n",
      "Epoch 29/50\n",
      "59570/59570 [==============================] - 32s 530us/step - loss: 0.0010 - val_loss: 0.0010\n",
      "Epoch 30/50\n",
      "59570/59570 [==============================] - 31s 525us/step - loss: 0.0010 - val_loss: 0.0010\n",
      "Epoch 31/50\n",
      "59570/59570 [==============================] - 34s 563us/step - loss: 0.0010 - val_loss: 0.0010\n",
      "Epoch 32/50\n",
      "59570/59570 [==============================] - 31s 518us/step - loss: 0.0010 - val_loss: 0.0010\n",
      "Epoch 33/50\n",
      "59570/59570 [==============================] - 30s 509us/step - loss: 0.0010 - val_loss: 0.0010\n",
      "Epoch 34/50\n",
      "59570/59570 [==============================] - 30s 512us/step - loss: 0.0010 - val_loss: 0.0010\n",
      "Epoch 35/50\n",
      "59570/59570 [==============================] - 30s 497us/step - loss: 0.0010 - val_loss: 0.0010\n",
      "Epoch 36/50\n",
      "59570/59570 [==============================] - 31s 513us/step - loss: 0.0010 - val_loss: 0.0010\n",
      "Epoch 37/50\n",
      "59570/59570 [==============================] - 31s 512us/step - loss: 0.0010 - val_loss: 0.0010\n",
      "Epoch 38/50\n",
      "59570/59570 [==============================] - 31s 515us/step - loss: 0.0010 - val_loss: 0.0010\n",
      "Epoch 39/50\n",
      "59570/59570 [==============================] - 31s 515us/step - loss: 0.0010 - val_loss: 0.0010\n",
      "Epoch 40/50\n",
      "59570/59570 [==============================] - 33s 550us/step - loss: 0.0010 - val_loss: 9.9896e-04\n",
      "Epoch 41/50\n",
      "59570/59570 [==============================] - 32s 536us/step - loss: 0.0010 - val_loss: 9.9704e-04\n",
      "Epoch 42/50\n",
      "59570/59570 [==============================] - 32s 531us/step - loss: 0.0010 - val_loss: 9.9518e-04\n",
      "Epoch 43/50\n",
      "59570/59570 [==============================] - 31s 513us/step - loss: 9.9996e-04 - val_loss: 9.9336e-04\n",
      "Epoch 44/50\n",
      "59570/59570 [==============================] - 31s 526us/step - loss: 9.9814e-04 - val_loss: 9.9158e-04\n",
      "Epoch 45/50\n",
      "59570/59570 [==============================] - 29s 495us/step - loss: 9.9637e-04 - val_loss: 9.8984e-04\n",
      "Epoch 46/50\n",
      "59570/59570 [==============================] - 30s 510us/step - loss: 9.9464e-04 - val_loss: 9.8814e-04\n",
      "Epoch 47/50\n",
      "59570/59570 [==============================] - 31s 518us/step - loss: 9.9295e-04 - val_loss: 9.8647e-04\n",
      "Epoch 48/50\n",
      "59570/59570 [==============================] - 30s 497us/step - loss: 9.9130e-04 - val_loss: 9.8484e-04\n",
      "Epoch 49/50\n",
      "59570/59570 [==============================] - 30s 504us/step - loss: 9.8968e-04 - val_loss: 9.8325e-04\n",
      "Epoch 50/50\n",
      "59570/59570 [==============================] - 30s 500us/step - loss: 9.8809e-04 - val_loss: 9.8169e-04\n"
     ]
    },
    {
     "data": {
      "text/plain": [
       "<keras.callbacks.History at 0x1caa23cf60>"
      ]
     },
     "execution_count": 286,
     "metadata": {},
     "output_type": "execute_result"
    }
   ],
   "source": [
    "timesteps = 43\n",
    "input_dim = 6\n",
    "input_shape = (timesteps,input_dim)\n",
    "latent_dim = 3\n",
    "batch_size = 128\n",
    "epochs = 50\n",
    "\n",
    "\n",
    "model = Sequential()\n",
    "model.add(LSTM(latent_dim, activation='tanh', input_shape=input_shape))\n",
    "model.add(RepeatVector(timesteps))\n",
    "model.add(LSTM(latent_dim, activation='tanh', return_sequences=True))\n",
    "model.add(TimeDistributed(Dense(input_dim)))\n",
    "opt = RMSprop(lr=1e-8)\n",
    "model.compile(optimizer=opt, loss='kullback_leibler_divergence')\n",
    "\n",
    "# fit model\n",
    "model.fit(final_data, final_data, \n",
    "          epochs=epochs, \n",
    "          verbose=1,\n",
    "          shuffle=True,\n",
    "          batch_size=batch_size,\n",
    "          validation_split=0.2,\n",
    "          callbacks=[TensorBoard(log_dir='/tmp/autoencoder')])"
   ]
  },
  {
   "cell_type": "code",
   "execution_count": 350,
   "metadata": {},
   "outputs": [],
   "source": [
    "def sampling(args):\n",
    "    z_mean, z_log_var = args\n",
    "    batch = K.shape(z_mean)[0]\n",
    "    dim = K.int_shape(z_mean)[1]\n",
    "    epsilon = K.random_normal(shape=(batch, dim))\n",
    "    return z_mean + K.exp(0.5 * z_log_var) * epsilon"
   ]
  },
  {
   "cell_type": "code",
   "execution_count": 353,
   "metadata": {},
   "outputs": [
    {
     "name": "stdout",
     "output_type": "stream",
     "text": [
      "Encoder\n",
      "__________________________________________________________________________________________________\n",
      "Layer (type)                    Output Shape         Param #     Connected to                     \n",
      "==================================================================================================\n",
      "encoder_input (InputLayer)      (None, 258)          0                                            \n",
      "__________________________________________________________________________________________________\n",
      "dense_74 (Dense)                (None, 10)           2590        encoder_input[0][0]              \n",
      "__________________________________________________________________________________________________\n",
      "z_mean (Dense)                  (None, 2)            22          dense_74[0][0]                   \n",
      "__________________________________________________________________________________________________\n",
      "z_log_var (Dense)               (None, 2)            22          dense_74[0][0]                   \n",
      "__________________________________________________________________________________________________\n",
      "z (Lambda)                      (None, 2)            0           z_mean[0][0]                     \n",
      "                                                                 z_log_var[0][0]                  \n",
      "==================================================================================================\n",
      "Total params: 2,634\n",
      "Trainable params: 2,634\n",
      "Non-trainable params: 0\n",
      "__________________________________________________________________________________________________\n",
      "--------------------------\n",
      "Decoder\n",
      "_________________________________________________________________\n",
      "Layer (type)                 Output Shape              Param #   \n",
      "=================================================================\n",
      "z_sampling (InputLayer)      (None, 2)                 0         \n",
      "_________________________________________________________________\n",
      "dense_75 (Dense)             (None, 10)                30        \n",
      "_________________________________________________________________\n",
      "dense_76 (Dense)             (None, 258)               2838      \n",
      "=================================================================\n",
      "Total params: 2,868\n",
      "Trainable params: 2,868\n",
      "Non-trainable params: 0\n",
      "_________________________________________________________________\n"
     ]
    }
   ],
   "source": [
    "max_traj_len = final_data_train.shape[1] # 43\n",
    "original_dim = final_data_train.shape[2] * max_traj_len # 6\n",
    "input_shape = (original_dim,)\n",
    "x_train = np.reshape(final_data_train, [-1, original_dim])\n",
    "x_test = np.reshape(final_data_test, [-1, original_dim])\n",
    "intermediate_dim = 10\n",
    "latent_dim = 2\n",
    "epochs = 50\n",
    "\n",
    "inputs = Input(shape=input_shape, name='encoder_input')\n",
    "x = Dense(intermediate_dim, activation='relu')(inputs)\n",
    "z_mean = Dense(latent_dim, name='z_mean')(x)\n",
    "z_log_var = Dense(latent_dim, name='z_log_var')(x)\n",
    "\n",
    "# use reparameterization trick to push the sampling out as input\n",
    "# note that \"output_shape\" isn't necessary with the TensorFlow backend\n",
    "z = Lambda(sampling, output_shape=(latent_dim,), name='z')([z_mean, z_log_var])\n",
    "\n",
    "# # instantiate encoder model\n",
    "encoder = Model(inputs, [z_mean, z_log_var, z], name='encoder')\n",
    "print('Encoder')\n",
    "encoder.summary()\n",
    "\n",
    "# # build decoder model\n",
    "latent_inputs = Input(shape=(latent_dim,), name='z_sampling')\n",
    "x = Dense(intermediate_dim, activation='relu')(latent_inputs)\n",
    "outputs = Dense(original_dim, activation='sigmoid')(x)\n",
    "\n",
    "# # instantiate decoder model\n",
    "decoder = Model(latent_inputs, outputs, name='decoder')\n",
    "print('--------------------------')\n",
    "print('Decoder')\n",
    "decoder.summary()\n",
    "\n",
    "# # instantiate VAE model\n",
    "outputs = decoder(encoder(inputs)[2])\n",
    "vae = Model(inputs, outputs, name='vae_mlp')\n",
    "\n",
    "\n",
    "models = (encoder, decoder)\n",
    "data = (x_test, x_test) "
   ]
  },
  {
   "cell_type": "code",
   "execution_count": 354,
   "metadata": {},
   "outputs": [
    {
     "name": "stdout",
     "output_type": "stream",
     "text": [
      "_________________________________________________________________\n",
      "Layer (type)                 Output Shape              Param #   \n",
      "=================================================================\n",
      "encoder_input (InputLayer)   (None, 258)               0         \n",
      "_________________________________________________________________\n",
      "encoder (Model)              [(None, 2), (None, 2), (N 2634      \n",
      "_________________________________________________________________\n",
      "decoder (Model)              (None, 258)               2868      \n",
      "=================================================================\n",
      "Total params: 5,502\n",
      "Trainable params: 5,502\n",
      "Non-trainable params: 0\n",
      "_________________________________________________________________\n",
      "Train on 74463 samples, validate on 74463 samples\n",
      "Epoch 1/50\n",
      "74463/74463 [==============================] - 5s 61us/step - loss: 16.6894 - val_loss: 2.0553\n",
      "Epoch 2/50\n",
      "74463/74463 [==============================] - 2s 26us/step - loss: 1.4048 - val_loss: 0.9815\n",
      "Epoch 3/50\n",
      "74463/74463 [==============================] - 2s 26us/step - loss: 0.6892 - val_loss: 0.4283\n",
      "Epoch 4/50\n",
      "74463/74463 [==============================] - 2s 27us/step - loss: 0.2487 - val_loss: 0.1210\n",
      "Epoch 5/50\n",
      "74463/74463 [==============================] - 2s 25us/step - loss: 0.0697 - val_loss: 0.0371\n",
      "Epoch 6/50\n",
      "74463/74463 [==============================] - 2s 25us/step - loss: 0.0245 - val_loss: 0.0163\n",
      "Epoch 7/50\n",
      "74463/74463 [==============================] - 2s 26us/step - loss: 0.0123 - val_loss: 0.0092\n",
      "Epoch 8/50\n",
      "74463/74463 [==============================] - 2s 27us/step - loss: 0.0074 - val_loss: 0.0058\n",
      "Epoch 9/50\n",
      "74463/74463 [==============================] - 2s 29us/step - loss: 0.0048 - val_loss: 0.0039\n",
      "Epoch 10/50\n",
      "74463/74463 [==============================] - 2s 27us/step - loss: 0.0032 - val_loss: 0.0027\n",
      "Epoch 11/50\n",
      "74463/74463 [==============================] - 2s 27us/step - loss: 0.0022 - val_loss: 0.0018\n",
      "Epoch 12/50\n",
      "74463/74463 [==============================] - 2s 26us/step - loss: 0.0016 - val_loss: 0.0013\n",
      "Epoch 13/50\n",
      "74463/74463 [==============================] - 2s 27us/step - loss: 0.0011 - val_loss: 9.2637e-04\n",
      "Epoch 14/50\n",
      "74463/74463 [==============================] - 2s 26us/step - loss: 7.8661e-04 - val_loss: 6.6547e-04\n",
      "Epoch 15/50\n",
      "74463/74463 [==============================] - 2s 25us/step - loss: 5.6541e-04 - val_loss: 4.7983e-04\n",
      "Epoch 16/50\n",
      "74463/74463 [==============================] - 2s 26us/step - loss: 4.0919e-04 - val_loss: 3.4688e-04\n",
      "Epoch 17/50\n",
      "74463/74463 [==============================] - 2s 26us/step - loss: 2.9661e-04 - val_loss: 2.5189e-04\n",
      "Epoch 18/50\n",
      "74463/74463 [==============================] - 2s 29us/step - loss: 2.1696e-04 - val_loss: 1.8439e-04\n",
      "Epoch 19/50\n",
      "74463/74463 [==============================] - 2s 29us/step - loss: 1.5950e-04 - val_loss: 1.3525e-04\n",
      "Epoch 20/50\n",
      "74463/74463 [==============================] - 2s 25us/step - loss: 1.1733e-04 - val_loss: 1.0100e-04\n",
      "Epoch 21/50\n",
      "74463/74463 [==============================] - 2s 25us/step - loss: 8.7257e-05 - val_loss: 7.4661e-05\n",
      "Epoch 22/50\n",
      "74463/74463 [==============================] - 2s 26us/step - loss: 6.5357e-05 - val_loss: 5.6232e-05\n",
      "Epoch 23/50\n",
      "74463/74463 [==============================] - 2s 27us/step - loss: 4.9452e-05 - val_loss: 4.3034e-05\n",
      "Epoch 24/50\n",
      "74463/74463 [==============================] - 2s 33us/step - loss: 3.7924e-05 - val_loss: 3.3226e-05\n",
      "Epoch 25/50\n",
      "74463/74463 [==============================] - 2s 32us/step - loss: 2.9471e-05 - val_loss: 2.6202e-05\n",
      "Epoch 26/50\n",
      "74463/74463 [==============================] - 2s 26us/step - loss: 2.3390e-05 - val_loss: 2.0972e-05\n",
      "Epoch 27/50\n",
      "74463/74463 [==============================] - 2s 28us/step - loss: 1.8981e-05 - val_loss: 1.7165e-05\n",
      "Epoch 28/50\n",
      "74463/74463 [==============================] - 2s 31us/step - loss: 1.5771e-05 - val_loss: 1.4326e-05\n",
      "Epoch 29/50\n",
      "74463/74463 [==============================] - 2s 25us/step - loss: 1.3314e-05 - val_loss: 1.2312e-05\n",
      "Epoch 30/50\n",
      "74463/74463 [==============================] - 2s 26us/step - loss: 1.1549e-05 - val_loss: 1.0802e-05\n",
      "Epoch 31/50\n",
      "74463/74463 [==============================] - 2s 25us/step - loss: 1.0257e-05 - val_loss: 9.7109e-06\n",
      "Epoch 32/50\n",
      "74463/74463 [==============================] - 2s 26us/step - loss: 9.2899e-06 - val_loss: 8.8593e-06\n",
      "Epoch 33/50\n",
      "74463/74463 [==============================] - 2s 25us/step - loss: 8.5457e-06 - val_loss: 8.2205e-06\n",
      "Epoch 34/50\n",
      "74463/74463 [==============================] - 2s 24us/step - loss: 7.9990e-06 - val_loss: 7.7202e-06\n",
      "Epoch 35/50\n",
      "74463/74463 [==============================] - 2s 26us/step - loss: 7.5511e-06 - val_loss: 7.3059e-06\n",
      "Epoch 36/50\n",
      "74463/74463 [==============================] - 2s 25us/step - loss: 7.1839e-06 - val_loss: 6.9836e-06\n",
      "Epoch 37/50\n",
      "74463/74463 [==============================] - 2s 25us/step - loss: 6.8878e-06 - val_loss: 6.7114e-06\n",
      "Epoch 38/50\n",
      "74463/74463 [==============================] - 2s 24us/step - loss: 6.6408e-06 - val_loss: 6.4988e-06\n",
      "Epoch 39/50\n",
      "74463/74463 [==============================] - 2s 24us/step - loss: 6.4436e-06 - val_loss: 6.3239e-06\n",
      "Epoch 40/50\n",
      "74463/74463 [==============================] - 2s 25us/step - loss: 6.2951e-06 - val_loss: 6.1986e-06\n",
      "Epoch 41/50\n",
      "74463/74463 [==============================] - 2s 24us/step - loss: 6.1989e-06 - val_loss: 6.1099e-06\n",
      "Epoch 42/50\n",
      "74463/74463 [==============================] - 2s 24us/step - loss: 6.1180e-06 - val_loss: 6.0496e-06\n",
      "Epoch 43/50\n",
      "74463/74463 [==============================] - 2s 24us/step - loss: 6.0583e-06 - val_loss: 5.9878e-06\n",
      "Epoch 44/50\n",
      "74463/74463 [==============================] - 2s 27us/step - loss: 6.0017e-06 - val_loss: 5.9429e-06\n",
      "Epoch 45/50\n",
      "74463/74463 [==============================] - 2s 24us/step - loss: 5.9723e-06 - val_loss: 5.9041e-06\n",
      "Epoch 46/50\n",
      "74463/74463 [==============================] - 2s 26us/step - loss: 5.9340e-06 - val_loss: 5.8805e-06\n",
      "Epoch 47/50\n",
      "74463/74463 [==============================] - 2s 25us/step - loss: 5.9053e-06 - val_loss: 5.8537e-06\n",
      "Epoch 48/50\n",
      "74463/74463 [==============================] - 2s 25us/step - loss: 5.8887e-06 - val_loss: 5.8373e-06\n",
      "Epoch 49/50\n",
      "74463/74463 [==============================] - 2s 25us/step - loss: 5.8717e-06 - val_loss: 5.8221e-06\n",
      "Epoch 50/50\n",
      "74463/74463 [==============================] - 2s 25us/step - loss: 5.8598e-06 - val_loss: 5.8064e-06\n"
     ]
    }
   ],
   "source": [
    "reconstruction_loss = mse(inputs, outputs)\n",
    "reconstruction_loss *= original_dim\n",
    "kl_loss = 1 + z_log_var - K.square(z_mean) - K.exp(z_log_var)\n",
    "kl_loss = K.sum(kl_loss, axis=-1)\n",
    "kl_loss *= -0.5\n",
    "vae_loss = K.mean(reconstruction_loss + kl_loss)\n",
    "vae.add_loss(vae_loss)\n",
    "vae.compile(optimizer='adam')\n",
    "vae.summary()\n",
    "\n",
    "vae.fit(x_train, epochs=epochs, batch_size=batch_size, validation_data=(x_test, None), callbacks=[TensorBoard(log_dir='/tmp/autoencoder2')]) \n",
    "vae.save_weights('vae_traj.h5')"
   ]
  },
  {
   "cell_type": "code",
   "execution_count": 372,
   "metadata": {},
   "outputs": [
    {
     "data": {
      "image/png": "[encoded data removed]",
      "text/plain": [
       "<Figure size 576x576 with 1 Axes>"
      ]
     },
     "metadata": {
      "needs_background": "light"
     },
     "output_type": "display_data"
    }
   ],
   "source": [
    "#plot_results(models, data, batch_size=batch_size, model_name=\"vae_mlp\")\n",
    "model_name = 'vae_mlp'\n",
    "x_test, y_test = data\n",
    "os.makedirs(model_name, exist_ok=True)\n",
    "\n",
    "filename = os.path.join(model_name, \"vae_mean.png\")\n",
    "# display a 2D plot of the digit classes in the latent space\n",
    "z_mean, _, _ = encoder.predict(x_test, batch_size=batch_size)\n",
    "plt.figure(figsize=(8, 8))\n",
    "plt.xlim(min(z_mean[:, 0]), max(z_mean[:, 0]))\n",
    "plt.ylim(min(z_mean[:, 1]), max(z_mean[:, 1]))\n",
    "plt.scatter(z_mean[:, 0], z_mean[:, 1])#, c=y_test)\n",
    "#plt.colorbar()\n",
    "plt.xlabel(\"z[0]\")\n",
    "plt.ylabel(\"z[1]\")\n",
    "# plt.savefig(filename)\n",
    "plt.show()\n",
    "\n",
    "# filename = os.path.join(model_name, \"digits_over_latent.png\")\n",
    "# # display a 30x30 2D manifold of digits\n",
    "# n = 30\n",
    "# digit_size = 28\n",
    "# figure = np.zeros((digit_size * n, digit_size * n))\n",
    "# # linearly spaced coordinates corresponding to the 2D plot\n",
    "# # of digit classes in the latent space\n",
    "# grid_x = np.linspace(-4, 4, n)\n",
    "# grid_y = np.linspace(-4, 4, n)[::-1]\n",
    "\n",
    "# for i, yi in enumerate(grid_y):\n",
    "#     for j, xi in enumerate(grid_x):\n",
    "#         z_sample = np.array([[xi, yi]])\n",
    "#         x_decoded = decoder.predict(z_sample)\n",
    "#         digit = x_decoded[0].reshape(digit_size, digit_size)\n",
    "#         figure[i * digit_size: (i + 1) * digit_size,\n",
    "#                j * digit_size: (j + 1) * digit_size] = digit\n",
    "\n",
    "# plt.figure(figsize=(10, 10))\n",
    "# start_range = digit_size // 2\n",
    "# end_range = n * digit_size + start_range + 1\n",
    "# pixel_range = np.arange(start_range, end_range, digit_size)\n",
    "# sample_range_x = np.round(grid_x, 1)\n",
    "# sample_range_y = np.round(grid_y, 1)\n",
    "# plt.xticks(pixel_range, sample_range_x)\n",
    "# plt.yticks(pixel_range, sample_range_y)\n",
    "# plt.xlabel(\"z[0]\")\n",
    "# plt.ylabel(\"z[1]\")\n",
    "# plt.imshow(figure, cmap='Greys_r')\n",
    "# plt.savefig(filename)\n",
    "# plt.show()\n"
   ]
  },
  {
   "cell_type": "markdown",
   "metadata": {},
   "source": [
    "HACKY HACKY HACKY WE WERE IN A HURRY AT THIS POINT OK???"
   ]
  },
  {
   "cell_type": "code",
   "execution_count": 390,
   "metadata": {},
   "outputs": [],
   "source": [
    "lowest_four = [(np.Inf,0), (np.Inf,0), (np.Inf,0), (np.Inf,0)]\n",
    "for i in range(len(z_mean)):\n",
    "    if z_mean[i][0] < lowest_four[0][0]:\n",
    "        lowest_four[0] = (z_mean[i][0],i) \n",
    "    elif z_mean[i][0] < lowest_four[1][0]:\n",
    "        lowest_four[1] = (z_mean[i][0],i) \n",
    "    elif z_mean[i][0] < lowest_four[2][0]:\n",
    "        lowest_four[2] = (z_mean[i][0],i) \n",
    "    elif z_mean[i][0] < lowest_four[3][0]:\n",
    "        lowest_four[3] = (z_mean[i][0],i) "
   ]
  },
  {
   "cell_type": "code",
   "execution_count": 391,
   "metadata": {},
   "outputs": [
    {
     "data": {
      "text/plain": [
       "[(-0.00042025372, 68569),\n",
       " (-0.00024250522, 68834),\n",
       " (-0.000176806, 70525),\n",
       " (-0.00014745444, 71745)]"
      ]
     },
     "execution_count": 391,
     "metadata": {},
     "output_type": "execute_result"
    }
   ],
   "source": [
    "lowest_four"
   ]
  },
  {
   "cell_type": "code",
   "execution_count": 396,
   "metadata": {},
   "outputs": [
    {
     "data": {
      "text/plain": [
       "array([1.95477983e-03, 1.95512009e-03, 3.86109172e-12, 3.86109172e-12,\n",
       "       9.00921402e-12, 7.43903672e-10, 1.95907619e-03, 1.95923610e-03,\n",
       "       3.86109172e-12, 3.86109172e-12, 9.00921402e-12, 7.43903672e-10,\n",
       "       1.95997823e-03, 1.96056593e-03, 3.86109172e-12, 3.86109172e-12,\n",
       "       9.00921402e-12, 7.43903672e-10, 1.96890405e-03, 0.00000000e+00,\n",
       "       3.86109172e-12, 3.86109172e-12, 9.00921402e-12, 7.43903672e-10,\n",
       "       1.97184376e-03, 1.97266373e-03, 3.86109172e-12, 3.86109172e-12,\n",
       "       1.02962446e-11, 7.45190703e-10, 1.98478156e-03, 1.98510626e-03,\n",
       "       3.86109172e-12, 3.86109172e-12, 1.02962446e-11, 7.45190703e-10,\n",
       "       1.84129155e-03, 1.84181373e-03, 3.86109172e-12, 3.86109172e-12,\n",
       "       9.00921402e-12, 7.43903672e-10, 1.87044828e-03, 1.87173858e-03,\n",
       "       3.86109172e-12, 3.86109172e-12, 9.00921402e-12, 7.43903672e-10,\n",
       "       1.85086875e-03, 1.85115525e-03, 3.86109172e-12, 3.86109172e-12,\n",
       "       9.00921402e-12, 7.43903672e-10, 1.84429546e-03, 1.84559536e-03,\n",
       "       3.86109172e-12, 3.86109172e-12, 9.00921402e-12, 7.43903672e-10,\n",
       "       1.83573627e-03, 1.83625160e-03, 3.86109172e-12, 3.86109172e-12,\n",
       "       9.00921402e-12, 7.45190703e-10, 1.87982532e-03, 1.88039708e-03,\n",
       "       3.86109172e-12, 3.86109172e-12, 9.00921402e-12, 7.43903672e-10,\n",
       "       1.86820667e-03, 1.86985090e-03, 3.86109172e-12, 3.86109172e-12,\n",
       "       9.00921402e-12, 7.43903672e-10, 1.94696006e-03, 1.94721937e-03,\n",
       "       3.86109172e-12, 3.86109172e-12, 9.00921402e-12, 7.43903672e-10,\n",
       "       1.88488354e-03, 1.88540862e-03, 3.86109172e-12, 3.86109172e-12,\n",
       "       9.00921402e-12, 7.43903672e-10, 1.85358110e-03, 1.85419463e-03,\n",
       "       3.86109172e-12, 3.86109172e-12, 1.02962446e-11, 7.45190703e-10,\n",
       "       1.87498864e-03, 1.87807741e-03, 3.86109172e-12, 3.86109172e-12,\n",
       "       9.00921402e-12, 7.43903672e-10, 1.89900445e-03, 1.89942330e-03,\n",
       "       3.86109172e-12, 3.86109172e-12, 9.00921402e-12, 7.45190703e-10,\n",
       "       1.84210783e-03, 1.84303607e-03, 3.86109172e-12, 3.86109172e-12,\n",
       "       9.00921402e-12, 7.43903672e-10, 1.86599504e-03, 1.86727423e-03,\n",
       "       3.86109172e-12, 3.86109172e-12, 9.00921402e-12, 7.43903672e-10,\n",
       "       1.94271062e-03, 1.94289927e-03, 3.86109172e-12, 3.86109172e-12,\n",
       "       9.00921402e-12, 7.43903672e-10, 1.93127399e-03, 1.93255271e-03,\n",
       "       3.86109172e-12, 3.86109172e-12, 9.00921402e-12, 7.43903672e-10,\n",
       "       1.88558716e-03, 1.88734828e-03, 3.86109172e-12, 3.86109172e-12,\n",
       "       1.02962446e-11, 7.45190703e-10, 1.86524024e-03, 1.86581791e-03,\n",
       "       3.86109172e-12, 3.86109172e-12, 9.00921402e-12, 6.92422449e-10,\n",
       "       1.87878926e-03, 1.87878956e-03, 3.86109172e-12, 3.86109172e-12,\n",
       "       1.02962446e-11, 7.43903672e-10, 1.84678331e-03, 1.84703732e-03,\n",
       "       3.86109172e-12, 3.86109172e-12, 9.00921402e-12, 7.43903672e-10,\n",
       "       1.94549541e-03, 1.94577764e-03, 3.86109172e-12, 3.86109172e-12,\n",
       "       9.00921402e-12, 7.43903672e-10, 1.89729633e-03, 1.89865858e-03,\n",
       "       3.86109172e-12, 3.86109172e-12, 9.00921402e-12, 7.43903672e-10,\n",
       "       1.82885737e-03, 1.82924811e-03, 3.86109172e-12, 3.86109172e-12,\n",
       "       9.00921402e-12, 7.43903672e-10, 1.89960368e-03, 1.90015691e-03,\n",
       "       3.86109172e-12, 3.86109172e-12, 1.02962446e-11, 7.45190703e-10,\n",
       "       1.86057723e-03, 1.86081517e-03, 3.86109172e-12, 3.86109172e-12,\n",
       "       1.02962446e-11, 7.45190703e-10, 1.83944655e-03, 1.83992218e-03,\n",
       "       3.86109172e-12, 3.86109172e-12, 9.00921402e-12, 7.43903672e-10,\n",
       "       1.91837553e-03, 1.91931326e-03, 3.86109172e-12, 3.86109172e-12,\n",
       "       9.00921402e-12, 7.43903672e-10, 1.98710048e-03, 1.98769736e-03,\n",
       "       3.86109172e-12, 3.86109172e-12, 9.00921402e-12, 7.43903672e-10,\n",
       "       1.98887927e-03, 1.98892681e-03, 3.86109172e-12, 3.86109172e-12,\n",
       "       9.00921402e-12, 6.44802318e-10, 1.99167222e-03, 1.99204511e-03,\n",
       "       3.86109172e-12, 3.86109172e-12, 9.00921402e-12, 7.43903672e-10,\n",
       "       1.99297494e-03, 1.99348243e-03, 3.86109172e-12, 3.86109172e-12,\n",
       "       9.00921402e-12, 7.43903672e-10, 1.99369785e-03, 1.99471173e-03,\n",
       "       3.86109172e-12, 3.86109172e-12, 9.00921402e-12, 7.43903672e-10,\n",
       "       1.99547483e-03, 1.99570248e-03, 3.86109172e-12, 3.86109172e-12,\n",
       "       9.00921402e-12, 7.45190703e-10, 2.00014321e-03, 0.00000000e+00,\n",
       "       3.86109172e-12, 3.86109172e-12, 9.00921402e-12, 7.43903672e-10,\n",
       "       2.00224249e-03, 2.00277762e-03, 3.86109172e-12, 3.86109172e-12,\n",
       "       1.02962446e-11, 7.43903672e-10, 2.00357631e-03, 2.00439727e-03,\n",
       "       3.86109172e-12, 3.86109172e-12, 9.00921402e-12, 7.43903672e-10,\n",
       "       0.00000000e+00, 0.00000000e+00, 0.00000000e+00, 0.00000000e+00,\n",
       "       0.00000000e+00, 0.00000000e+00])"
      ]
     },
     "execution_count": 396,
     "metadata": {},
     "output_type": "execute_result"
    }
   ],
   "source": [
    "x_test[68569]"
   ]
  },
  {
   "cell_type": "code",
   "execution_count": null,
   "metadata": {},
   "outputs": [],
   "source": []
  }
 ],
 "metadata": {
  "kernelspec": {
   "display_name": "Python 3",
   "language": "python",
   "name": "python3"
  },
  "language_info": {
   "codemirror_mode": {
    "name": "ipython",
    "version": 3
   },
   "file_extension": ".py",
   "mimetype": "text/x-python",
   "name": "python",
   "nbconvert_exporter": "python",
   "pygments_lexer": "ipython3",
   "version": "3.7.3"
  }
 },
 "nbformat": 4,
 "nbformat_minor": 2
}
