{
 "cells": [
  {
   "cell_type": "markdown",
   "metadata": {},
   "source": [
    "# Mutual Information (MI) for Utility Factor\n",
    "Implemented Mutual Information as a metric for Utility Factor."
   ]
  },
  {
   "cell_type": "code",
   "execution_count": 1,
   "metadata": {},
   "outputs": [],
   "source": [
    "import pandas as pd\n",
    "import matplotlib.pyplot as plt\n",
    "import numpy as np\n",
    "\n",
    "from random import choices"
   ]
  },
  {
   "cell_type": "code",
   "execution_count": 2,
   "metadata": {},
   "outputs": [],
   "source": [
    "# Compute Mutual Information (MI)\n",
    "\n",
    "def calc_MI(X,Y,bins):\n",
    "    c_XY = np.histogram2d(X,Y,bins)[0]\n",
    "    c_X = np.histogram(X,bins)[0]\n",
    "    c_Y = np.histogram(Y,bins)[0]\n",
    "    \n",
    "    H_X = shan_entropy(c_X)\n",
    "    H_Y = shan_entropy(c_Y)\n",
    "    H_XY = shan_entropy(c_XY)\n",
    "    \n",
    "    MI = H_X + H_Y - H_XY\n",
    "    return MI\n",
    "\n",
    "def shan_entropy(c):\n",
    "    c_normalized = c / float(np.sum(c))\n",
    "    c_normalized = c_normalized[np.nonzero(c_normalized)]\n",
    "    H = -sum(c_normalized* np.log2(c_normalized))  \n",
    "    return H"
   ]
  },
  {
   "cell_type": "code",
   "execution_count": 3,
   "metadata": {},
   "outputs": [],
   "source": [
    "population = list(range(0, 101)) # Single Year of Age from 0 to 100 inclusive\n",
    "weights = [11.6, 12.9, 12.7, 12.7, 13, 13, 12.9, 12.9, 12.7, 12.7,\n",
    "           12.6, 12.1, 11.7, 11.5, 11.4, 11.4, 11.7, 11.9, 12.1, 12.6,\n",
    "           12.9, 13.2, 13.7, 14.3, 14.6, 14.7, 15, 15.3, 15.1, 15,\n",
    "           14.8, 15, 14.8, 14.8, 14.8, 14.3, 14, 13.4, 13, 12.8,\n",
    "           12.7, 12.8, 12.8, 13.2, 13.4, 13.8, 13.8, 12.9, 12.6, 12.3,\n",
    "           12, 12.1, 12.2, 12.8, 12.9, 12.9, 12.7, 12.3, 12, 11.9,\n",
    "           11.6, 11.3, 10.9, 10.6, 10.5, 10.1, 10, 9.8, 9.5, 9.6,\n",
    "           9.7, 8.3, 7.9, 7.5, 6.7, 6.5, 6, 5.7, 5.3, 5,\n",
    "           4.8, 4.4, 4, 3.6, 3.4, 3.2, 3, 2.7, 2.4, 2.1,\n",
    "           1.8, 1.5, 1.3, 1, 0.8, 0.6, 0.4, 0.3, 0.2, 0.1,\n",
    "           0.2] # 3101.0 Australian Demographic Statistics (ERP Jun-2017)\n",
    "age_samples = choices(population, weights, k=10**6) # generate k (1 million) samples"
   ]
  },
  {
   "cell_type": "code",
   "execution_count": 4,
   "metadata": {},
   "outputs": [
    {
     "data": {
      "image/png": "[encoded data removed]",
      "text/plain": [
       "<Figure size 432x288 with 1 Axes>"
      ]
     },
     "metadata": {
      "needs_background": "light"
     },
     "output_type": "display_data"
    }
   ],
   "source": [
    "plt.hist(age_samples, bins=10)\n",
    "plt.xlabel('Age')\n",
    "plt.ylabel('Population')\n",
    "plt.show()"
   ]
  },
  {
   "cell_type": "code",
   "execution_count": 5,
   "metadata": {},
   "outputs": [],
   "source": [
    "def calculate_utility(round_factor):\n",
    "    # This function calculates the utility factor of the aggregated Age variable.\n",
    "    # Aggregation is done by rounding age values to ranges of (round_factor) years.\n",
    "    \n",
    "    def myround(x, base=5):\n",
    "        return base * round(x/base)\n",
    "\n",
    "    age_rounded = [myround(x, round_factor) for x in age_samples]\n",
    "    \n",
    "    df = pd.DataFrame(\n",
    "        {'sample': age_samples,\n",
    "         'rounded': age_rounded\n",
    "        })\n",
    "    \n",
    "    A = df[:1000].values\n",
    "    \n",
    "    bins = 100\n",
    "    n = A.shape[1]\n",
    "    matMI = np.zeros((n, n))\n",
    "    \n",
    "    for ix in np.arange(n):\n",
    "        for jx in np.arange(n): #np.arange(ix+1,n):\n",
    "            matMI[ix,jx] = calc_MI(A[:,ix], A[:,jx], bins)\n",
    "\n",
    "    return matMI[0,1]"
   ]
  },
  {
   "cell_type": "code",
   "execution_count": 6,
   "metadata": {},
   "outputs": [
    {
     "name": "stdout",
     "output_type": "stream",
     "text": [
      "Base case vs aggregation to  1 -year groupings: Utility Factor is 6.38707\n",
      "Base case vs aggregation to  2 -year groupings: Utility Factor is 5.22092\n",
      "Base case vs aggregation to  3 -year groupings: Utility Factor is 4.84761\n",
      "Base case vs aggregation to  4 -year groupings: Utility Factor is 4.42003\n",
      "Base case vs aggregation to  5 -year groupings: Utility Factor is 4.12898\n",
      "Base case vs aggregation to  6 -year groupings: Utility Factor is 3.87269\n",
      "Base case vs aggregation to  7 -year groupings: Utility Factor is 3.66240\n",
      "Base case vs aggregation to  8 -year groupings: Utility Factor is 3.48067\n",
      "Base case vs aggregation to  9 -year groupings: Utility Factor is 3.33365\n",
      "Base case vs aggregation to  10 -year groupings: Utility Factor is 3.19629\n",
      "Base case vs aggregation to  11 -year groupings: Utility Factor is 3.05906\n",
      "Base case vs aggregation to  12 -year groupings: Utility Factor is 2.94938\n",
      "Base case vs aggregation to  13 -year groupings: Utility Factor is 2.83395\n",
      "Base case vs aggregation to  14 -year groupings: Utility Factor is 2.72312\n",
      "Base case vs aggregation to  15 -year groupings: Utility Factor is 2.64772\n",
      "Base case vs aggregation to  16 -year groupings: Utility Factor is 2.54842\n",
      "Base case vs aggregation to  17 -year groupings: Utility Factor is 2.47942\n",
      "Base case vs aggregation to  18 -year groupings: Utility Factor is 2.42073\n",
      "Base case vs aggregation to  19 -year groupings: Utility Factor is 2.35543\n",
      "Base case vs aggregation to  20 -year groupings: Utility Factor is 2.27618\n"
     ]
    }
   ],
   "source": [
    "mylist=[]\n",
    "for n in list(range(1, 21)):\n",
    "    u = calculate_utility(n)\n",
    "    print (\"Base case vs aggregation to \", n, \"-year groupings:\", 'Utility Factor is %.5f' % u)\n",
    "    mylist.append([n,u])"
   ]
  },
  {
   "cell_type": "code",
   "execution_count": 7,
   "metadata": {},
   "outputs": [
    {
     "data": {
      "image/png": "[encoded data removed]",
      "text/plain": [
       "<Figure size 432x288 with 1 Axes>"
      ]
     },
     "metadata": {
      "needs_background": "light"
     },
     "output_type": "display_data"
    }
   ],
   "source": [
    "plt.plot([item[0] for item in mylist], [item[1] for item in mylist], color='b')\n",
    "plt.xlabel('Aggregation (no. of years in an Age group)')\n",
    "plt.ylabel('Mutual Information')\n",
    "plt.title('Mutual Information vs Aggregation')\n",
    "plt.xticks([1,5,10,15,20])\n",
    "plt.grid(b=None, which='major', axis='both')\n",
    "plt.show()"
   ]
  }
 ],
 "metadata": {
  "kernelspec": {
   "display_name": "Python 3",
   "language": "python",
   "name": "python3"
  },
  "language_info": {
   "codemirror_mode": {
    "name": "ipython",
    "version": 3
   },
   "file_extension": ".py",
   "mimetype": "text/x-python",
   "name": "python",
   "nbconvert_exporter": "python",
   "pygments_lexer": "ipython3",
   "version": "3.7.3"
  }
 },
 "nbformat": 4,
 "nbformat_minor": 2
}
